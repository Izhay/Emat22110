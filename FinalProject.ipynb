{
 "cells": [
  {
   "cell_type": "markdown",
   "id": "current-authentication",
   "metadata": {},
   "source": [
    "## What Spotify genres are the most popular?\n",
    "by: Isabel Hayes"
   ]
  },
  {
   "attachments": {
    "image.png": {
     "image/png": "[encoded data removed]"
    }
   },
   "cell_type": "markdown",
   "id": "brazilian-arctic",
   "metadata": {},
   "source": [
    "![image.png](attachment:image.png)"
   ]
  },
  {
   "cell_type": "markdown",
   "id": "hybrid-tongue",
   "metadata": {},
   "source": [
    "In this notebook, we will be looking at data directly from Spotify in hopes to trace the growth and changes of the most popular podcast genres. The data starts in 2018 and goes to early 2021. We will be looking at the genres that yearly do the best and what overall are the most popular genres for podcasts. We also will be looking at the elements in each genre that are the most common within each year."
   ]
  },
  {
   "cell_type": "code",
   "execution_count": 12,
   "id": "recovered-discount",
   "metadata": {},
   "outputs": [],
   "source": [
    "from matplotlib import pyplot as plt\n",
    "import json\n",
    "from datetime import datetime as dt\n",
    "import seaborn\n",
    "import pandas as pd"
   ]
  },
  {
   "cell_type": "code",
   "execution_count": 13,
   "id": "emotional-scott",
   "metadata": {},
   "outputs": [],
   "source": [
    "streamsBm = pd.read_csv(r\"C:\\Users\\ihay0\\DataTech\\monthly_streams_index.csv\")"
   ]
  },
  {
   "cell_type": "markdown",
   "id": "literary-arrangement",
   "metadata": {},
   "source": [
    "Adding libraries for the analyst and importing the data from a CSV file"
   ]
  },
  {
   "cell_type": "code",
   "execution_count": 14,
   "id": "contained-location",
   "metadata": {},
   "outputs": [
    {
     "data": {
      "text/html": [
       "<div>\n",
       "<style scoped>\n",
       "    .dataframe tbody tr th:only-of-type {\n",
       "        vertical-align: middle;\n",
       "    }\n",
       "\n",
       "    .dataframe tbody tr th {\n",
       "        vertical-align: top;\n",
       "    }\n",
       "\n",
       "    .dataframe thead th {\n",
       "        text-align: right;\n",
       "    }\n",
       "</style>\n",
       "<table border=\"1\" class=\"dataframe\">\n",
       "  <thead>\n",
       "    <tr style=\"text-align: right;\">\n",
       "      <th></th>\n",
       "      <th>month</th>\n",
       "      <th>standard_categories_list</th>\n",
       "      <th>index</th>\n",
       "    </tr>\n",
       "  </thead>\n",
       "  <tbody>\n",
       "    <tr>\n",
       "      <th>0</th>\n",
       "      <td>Apr 2019</td>\n",
       "      <td>Arts</td>\n",
       "      <td>0.02287</td>\n",
       "    </tr>\n",
       "    <tr>\n",
       "      <th>1</th>\n",
       "      <td>Apr 2019</td>\n",
       "      <td>Arts, Business, Education</td>\n",
       "      <td>0.00012</td>\n",
       "    </tr>\n",
       "    <tr>\n",
       "      <th>2</th>\n",
       "      <td>Apr 2019</td>\n",
       "      <td>Arts, Business, Health &amp; Fitness</td>\n",
       "      <td>0.00015</td>\n",
       "    </tr>\n",
       "    <tr>\n",
       "      <th>3</th>\n",
       "      <td>Apr 2019</td>\n",
       "      <td>Arts, Business, Society &amp; Culture</td>\n",
       "      <td>0.00214</td>\n",
       "    </tr>\n",
       "    <tr>\n",
       "      <th>4</th>\n",
       "      <td>Apr 2019</td>\n",
       "      <td>Arts, Comedy</td>\n",
       "      <td>0.00673</td>\n",
       "    </tr>\n",
       "  </tbody>\n",
       "</table>\n",
       "</div>"
      ],
      "text/plain": [
       "      month           standard_categories_list    index\n",
       "0  Apr 2019                               Arts  0.02287\n",
       "1  Apr 2019          Arts, Business, Education  0.00012\n",
       "2  Apr 2019   Arts, Business, Health & Fitness  0.00015\n",
       "3  Apr 2019  Arts, Business, Society & Culture  0.00214\n",
       "4  Apr 2019                       Arts, Comedy  0.00673"
      ]
     },
     "execution_count": 14,
     "metadata": {},
     "output_type": "execute_result"
    }
   ],
   "source": [
    "streamsBm.head()"
   ]
  },
  {
   "cell_type": "markdown",
   "id": "congressional-mission",
   "metadata": {},
   "source": [
    "The data is separated by month and year. Each podcast can have one or more tags naming the genre attached to it. An example of this is that a tag can be a comedy tag or it can be a comedy, true crime tags. Listens have been scaled to be in a range from 0 to 1 so something like .01 would have a greater listen rate than .001."
   ]
  },
  {
   "cell_type": "code",
   "execution_count": 15,
   "id": "ordered-illness",
   "metadata": {},
   "outputs": [
    {
     "data": {
      "text/plain": [
       "0                                     Arts\n",
       "1                Arts, Business, Education\n",
       "2         Arts, Business, Health & Fitness\n",
       "3        Arts, Business, Society & Culture\n",
       "4                             Arts, Comedy\n",
       "                       ...                \n",
       "10549                    Sports, TV & Film\n",
       "10550                           Technology\n",
       "10551                           True Crime\n",
       "10552                            TV & Film\n",
       "10553                TV & Film, True Crime\n",
       "Name: standard_categories_list, Length: 10554, dtype: object"
      ]
     },
     "execution_count": 15,
     "metadata": {},
     "output_type": "execute_result"
    }
   ],
   "source": [
    "streamsBm['standard_categories_list']"
   ]
  },
  {
   "cell_type": "code",
   "execution_count": 16,
   "id": "differential-watch",
   "metadata": {},
   "outputs": [
    {
     "data": {
      "text/plain": [
       "0        Apr 2019\n",
       "1        Apr 2019\n",
       "2        Apr 2019\n",
       "3        Apr 2019\n",
       "4        Apr 2019\n",
       "           ...   \n",
       "10549    Sep 2020\n",
       "10550    Sep 2020\n",
       "10551    Sep 2020\n",
       "10552    Sep 2020\n",
       "10553    Sep 2020\n",
       "Name: month, Length: 10554, dtype: object"
      ]
     },
     "execution_count": 16,
     "metadata": {},
     "output_type": "execute_result"
    }
   ],
   "source": [
    "streamsBm['month']"
   ]
  },
  {
   "cell_type": "markdown",
   "id": "generous-spectacular",
   "metadata": {},
   "source": [
    "Splitting the data frame to have separate columns for year and month"
   ]
  },
  {
   "cell_type": "code",
   "execution_count": 17,
   "id": "every-tooth",
   "metadata": {},
   "outputs": [],
   "source": [
    "streams= streamsBm.month.str.split(expand=True)"
   ]
  },
  {
   "cell_type": "code",
   "execution_count": 18,
   "id": "hollywood-fence",
   "metadata": {},
   "outputs": [
    {
     "data": {
      "text/html": [
       "<div>\n",
       "<style scoped>\n",
       "    .dataframe tbody tr th:only-of-type {\n",
       "        vertical-align: middle;\n",
       "    }\n",
       "\n",
       "    .dataframe tbody tr th {\n",
       "        vertical-align: top;\n",
       "    }\n",
       "\n",
       "    .dataframe thead th {\n",
       "        text-align: right;\n",
       "    }\n",
       "</style>\n",
       "<table border=\"1\" class=\"dataframe\">\n",
       "  <thead>\n",
       "    <tr style=\"text-align: right;\">\n",
       "      <th></th>\n",
       "      <th>0</th>\n",
       "      <th>1</th>\n",
       "    </tr>\n",
       "  </thead>\n",
       "  <tbody>\n",
       "    <tr>\n",
       "      <th>0</th>\n",
       "      <td>Apr</td>\n",
       "      <td>2019</td>\n",
       "    </tr>\n",
       "    <tr>\n",
       "      <th>1</th>\n",
       "      <td>Apr</td>\n",
       "      <td>2019</td>\n",
       "    </tr>\n",
       "    <tr>\n",
       "      <th>2</th>\n",
       "      <td>Apr</td>\n",
       "      <td>2019</td>\n",
       "    </tr>\n",
       "    <tr>\n",
       "      <th>3</th>\n",
       "      <td>Apr</td>\n",
       "      <td>2019</td>\n",
       "    </tr>\n",
       "    <tr>\n",
       "      <th>4</th>\n",
       "      <td>Apr</td>\n",
       "      <td>2019</td>\n",
       "    </tr>\n",
       "  </tbody>\n",
       "</table>\n",
       "</div>"
      ],
      "text/plain": [
       "     0     1\n",
       "0  Apr  2019\n",
       "1  Apr  2019\n",
       "2  Apr  2019\n",
       "3  Apr  2019\n",
       "4  Apr  2019"
      ]
     },
     "execution_count": 18,
     "metadata": {},
     "output_type": "execute_result"
    }
   ],
   "source": [
    "streams.head()"
   ]
  },
  {
   "cell_type": "markdown",
   "id": "apart-dutch",
   "metadata": {},
   "source": [
    "Adding the new column to the data frame"
   ]
  },
  {
   "cell_type": "code",
   "execution_count": 19,
   "id": "designing-solid",
   "metadata": {},
   "outputs": [],
   "source": [
    "streamsBm[['Mon','Year']] = streamsBm['month'].str.split(expand = True)"
   ]
  },
  {
   "cell_type": "code",
   "execution_count": 20,
   "id": "homeless-vacuum",
   "metadata": {},
   "outputs": [
    {
     "data": {
      "text/html": [
       "<div>\n",
       "<style scoped>\n",
       "    .dataframe tbody tr th:only-of-type {\n",
       "        vertical-align: middle;\n",
       "    }\n",
       "\n",
       "    .dataframe tbody tr th {\n",
       "        vertical-align: top;\n",
       "    }\n",
       "\n",
       "    .dataframe thead th {\n",
       "        text-align: right;\n",
       "    }\n",
       "</style>\n",
       "<table border=\"1\" class=\"dataframe\">\n",
       "  <thead>\n",
       "    <tr style=\"text-align: right;\">\n",
       "      <th></th>\n",
       "      <th>month</th>\n",
       "      <th>standard_categories_list</th>\n",
       "      <th>index</th>\n",
       "      <th>Mon</th>\n",
       "      <th>Year</th>\n",
       "    </tr>\n",
       "  </thead>\n",
       "  <tbody>\n",
       "    <tr>\n",
       "      <th>0</th>\n",
       "      <td>Apr 2019</td>\n",
       "      <td>Arts</td>\n",
       "      <td>0.02287</td>\n",
       "      <td>Apr</td>\n",
       "      <td>2019</td>\n",
       "    </tr>\n",
       "    <tr>\n",
       "      <th>1</th>\n",
       "      <td>Apr 2019</td>\n",
       "      <td>Arts, Business, Education</td>\n",
       "      <td>0.00012</td>\n",
       "      <td>Apr</td>\n",
       "      <td>2019</td>\n",
       "    </tr>\n",
       "    <tr>\n",
       "      <th>2</th>\n",
       "      <td>Apr 2019</td>\n",
       "      <td>Arts, Business, Health &amp; Fitness</td>\n",
       "      <td>0.00015</td>\n",
       "      <td>Apr</td>\n",
       "      <td>2019</td>\n",
       "    </tr>\n",
       "    <tr>\n",
       "      <th>3</th>\n",
       "      <td>Apr 2019</td>\n",
       "      <td>Arts, Business, Society &amp; Culture</td>\n",
       "      <td>0.00214</td>\n",
       "      <td>Apr</td>\n",
       "      <td>2019</td>\n",
       "    </tr>\n",
       "    <tr>\n",
       "      <th>4</th>\n",
       "      <td>Apr 2019</td>\n",
       "      <td>Arts, Comedy</td>\n",
       "      <td>0.00673</td>\n",
       "      <td>Apr</td>\n",
       "      <td>2019</td>\n",
       "    </tr>\n",
       "    <tr>\n",
       "      <th>...</th>\n",
       "      <td>...</td>\n",
       "      <td>...</td>\n",
       "      <td>...</td>\n",
       "      <td>...</td>\n",
       "      <td>...</td>\n",
       "    </tr>\n",
       "    <tr>\n",
       "      <th>10549</th>\n",
       "      <td>Sep 2020</td>\n",
       "      <td>Sports, TV &amp; Film</td>\n",
       "      <td>0.00220</td>\n",
       "      <td>Sep</td>\n",
       "      <td>2020</td>\n",
       "    </tr>\n",
       "    <tr>\n",
       "      <th>10550</th>\n",
       "      <td>Sep 2020</td>\n",
       "      <td>Technology</td>\n",
       "      <td>0.01204</td>\n",
       "      <td>Sep</td>\n",
       "      <td>2020</td>\n",
       "    </tr>\n",
       "    <tr>\n",
       "      <th>10551</th>\n",
       "      <td>Sep 2020</td>\n",
       "      <td>True Crime</td>\n",
       "      <td>0.27128</td>\n",
       "      <td>Sep</td>\n",
       "      <td>2020</td>\n",
       "    </tr>\n",
       "    <tr>\n",
       "      <th>10552</th>\n",
       "      <td>Sep 2020</td>\n",
       "      <td>TV &amp; Film</td>\n",
       "      <td>0.06240</td>\n",
       "      <td>Sep</td>\n",
       "      <td>2020</td>\n",
       "    </tr>\n",
       "    <tr>\n",
       "      <th>10553</th>\n",
       "      <td>Sep 2020</td>\n",
       "      <td>TV &amp; Film, True Crime</td>\n",
       "      <td>0.00365</td>\n",
       "      <td>Sep</td>\n",
       "      <td>2020</td>\n",
       "    </tr>\n",
       "  </tbody>\n",
       "</table>\n",
       "<p>10554 rows × 5 columns</p>\n",
       "</div>"
      ],
      "text/plain": [
       "          month           standard_categories_list    index  Mon  Year\n",
       "0      Apr 2019                               Arts  0.02287  Apr  2019\n",
       "1      Apr 2019          Arts, Business, Education  0.00012  Apr  2019\n",
       "2      Apr 2019   Arts, Business, Health & Fitness  0.00015  Apr  2019\n",
       "3      Apr 2019  Arts, Business, Society & Culture  0.00214  Apr  2019\n",
       "4      Apr 2019                       Arts, Comedy  0.00673  Apr  2019\n",
       "...         ...                                ...      ...  ...   ...\n",
       "10549  Sep 2020                  Sports, TV & Film  0.00220  Sep  2020\n",
       "10550  Sep 2020                         Technology  0.01204  Sep  2020\n",
       "10551  Sep 2020                         True Crime  0.27128  Sep  2020\n",
       "10552  Sep 2020                          TV & Film  0.06240  Sep  2020\n",
       "10553  Sep 2020              TV & Film, True Crime  0.00365  Sep  2020\n",
       "\n",
       "[10554 rows x 5 columns]"
      ]
     },
     "execution_count": 20,
     "metadata": {},
     "output_type": "execute_result"
    }
   ],
   "source": [
    "streamsBm"
   ]
  },
  {
   "cell_type": "markdown",
   "id": "automotive-panama",
   "metadata": {},
   "source": [
    "Removing the orginal data column because we added the new one"
   ]
  },
  {
   "cell_type": "code",
   "execution_count": 21,
   "id": "arctic-voice",
   "metadata": {},
   "outputs": [],
   "source": [
    "streamsBm.drop('month',inplace=True,axis=1)"
   ]
  },
  {
   "cell_type": "code",
   "execution_count": 22,
   "id": "demographic-patrol",
   "metadata": {},
   "outputs": [
    {
     "data": {
      "text/html": [
       "<div>\n",
       "<style scoped>\n",
       "    .dataframe tbody tr th:only-of-type {\n",
       "        vertical-align: middle;\n",
       "    }\n",
       "\n",
       "    .dataframe tbody tr th {\n",
       "        vertical-align: top;\n",
       "    }\n",
       "\n",
       "    .dataframe thead th {\n",
       "        text-align: right;\n",
       "    }\n",
       "</style>\n",
       "<table border=\"1\" class=\"dataframe\">\n",
       "  <thead>\n",
       "    <tr style=\"text-align: right;\">\n",
       "      <th></th>\n",
       "      <th>standard_categories_list</th>\n",
       "      <th>index</th>\n",
       "      <th>Mon</th>\n",
       "      <th>Year</th>\n",
       "    </tr>\n",
       "  </thead>\n",
       "  <tbody>\n",
       "    <tr>\n",
       "      <th>0</th>\n",
       "      <td>Arts</td>\n",
       "      <td>0.02287</td>\n",
       "      <td>Apr</td>\n",
       "      <td>2019</td>\n",
       "    </tr>\n",
       "    <tr>\n",
       "      <th>1</th>\n",
       "      <td>Arts, Business, Education</td>\n",
       "      <td>0.00012</td>\n",
       "      <td>Apr</td>\n",
       "      <td>2019</td>\n",
       "    </tr>\n",
       "    <tr>\n",
       "      <th>2</th>\n",
       "      <td>Arts, Business, Health &amp; Fitness</td>\n",
       "      <td>0.00015</td>\n",
       "      <td>Apr</td>\n",
       "      <td>2019</td>\n",
       "    </tr>\n",
       "    <tr>\n",
       "      <th>3</th>\n",
       "      <td>Arts, Business, Society &amp; Culture</td>\n",
       "      <td>0.00214</td>\n",
       "      <td>Apr</td>\n",
       "      <td>2019</td>\n",
       "    </tr>\n",
       "    <tr>\n",
       "      <th>4</th>\n",
       "      <td>Arts, Comedy</td>\n",
       "      <td>0.00673</td>\n",
       "      <td>Apr</td>\n",
       "      <td>2019</td>\n",
       "    </tr>\n",
       "    <tr>\n",
       "      <th>...</th>\n",
       "      <td>...</td>\n",
       "      <td>...</td>\n",
       "      <td>...</td>\n",
       "      <td>...</td>\n",
       "    </tr>\n",
       "    <tr>\n",
       "      <th>10549</th>\n",
       "      <td>Sports, TV &amp; Film</td>\n",
       "      <td>0.00220</td>\n",
       "      <td>Sep</td>\n",
       "      <td>2020</td>\n",
       "    </tr>\n",
       "    <tr>\n",
       "      <th>10550</th>\n",
       "      <td>Technology</td>\n",
       "      <td>0.01204</td>\n",
       "      <td>Sep</td>\n",
       "      <td>2020</td>\n",
       "    </tr>\n",
       "    <tr>\n",
       "      <th>10551</th>\n",
       "      <td>True Crime</td>\n",
       "      <td>0.27128</td>\n",
       "      <td>Sep</td>\n",
       "      <td>2020</td>\n",
       "    </tr>\n",
       "    <tr>\n",
       "      <th>10552</th>\n",
       "      <td>TV &amp; Film</td>\n",
       "      <td>0.06240</td>\n",
       "      <td>Sep</td>\n",
       "      <td>2020</td>\n",
       "    </tr>\n",
       "    <tr>\n",
       "      <th>10553</th>\n",
       "      <td>TV &amp; Film, True Crime</td>\n",
       "      <td>0.00365</td>\n",
       "      <td>Sep</td>\n",
       "      <td>2020</td>\n",
       "    </tr>\n",
       "  </tbody>\n",
       "</table>\n",
       "<p>10554 rows × 4 columns</p>\n",
       "</div>"
      ],
      "text/plain": [
       "                standard_categories_list    index  Mon  Year\n",
       "0                                   Arts  0.02287  Apr  2019\n",
       "1              Arts, Business, Education  0.00012  Apr  2019\n",
       "2       Arts, Business, Health & Fitness  0.00015  Apr  2019\n",
       "3      Arts, Business, Society & Culture  0.00214  Apr  2019\n",
       "4                           Arts, Comedy  0.00673  Apr  2019\n",
       "...                                  ...      ...  ...   ...\n",
       "10549                  Sports, TV & Film  0.00220  Sep  2020\n",
       "10550                         Technology  0.01204  Sep  2020\n",
       "10551                         True Crime  0.27128  Sep  2020\n",
       "10552                          TV & Film  0.06240  Sep  2020\n",
       "10553              TV & Film, True Crime  0.00365  Sep  2020\n",
       "\n",
       "[10554 rows x 4 columns]"
      ]
     },
     "execution_count": 22,
     "metadata": {},
     "output_type": "execute_result"
    }
   ],
   "source": [
    "streamsBm"
   ]
  },
  {
   "cell_type": "markdown",
   "id": "eastern-richardson",
   "metadata": {},
   "source": [
    "##### Splitting the main data frame into separate data frames that are split by the year "
   ]
  },
  {
   "cell_type": "markdown",
   "id": "sound-analysis",
   "metadata": {},
   "source": [
    "### 2018"
   ]
  },
  {
   "cell_type": "code",
   "execution_count": 23,
   "id": "tribal-rwanda",
   "metadata": {},
   "outputs": [],
   "source": [
    "year18 = streamsBm[streamsBm['Year'] == '2018']"
   ]
  },
  {
   "cell_type": "code",
   "execution_count": 24,
   "id": "administrative-manufacturer",
   "metadata": {},
   "outputs": [
    {
     "data": {
      "text/html": [
       "<div>\n",
       "<style scoped>\n",
       "    .dataframe tbody tr th:only-of-type {\n",
       "        vertical-align: middle;\n",
       "    }\n",
       "\n",
       "    .dataframe tbody tr th {\n",
       "        vertical-align: top;\n",
       "    }\n",
       "\n",
       "    .dataframe thead th {\n",
       "        text-align: right;\n",
       "    }\n",
       "</style>\n",
       "<table border=\"1\" class=\"dataframe\">\n",
       "  <thead>\n",
       "    <tr style=\"text-align: right;\">\n",
       "      <th></th>\n",
       "      <th>standard_categories_list</th>\n",
       "      <th>index</th>\n",
       "      <th>Mon</th>\n",
       "      <th>Year</th>\n",
       "    </tr>\n",
       "  </thead>\n",
       "  <tbody>\n",
       "    <tr>\n",
       "      <th>601</th>\n",
       "      <td>Arts</td>\n",
       "      <td>0.01664</td>\n",
       "      <td>Aug</td>\n",
       "      <td>2018</td>\n",
       "    </tr>\n",
       "    <tr>\n",
       "      <th>602</th>\n",
       "      <td>Arts, Business, Society &amp; Culture</td>\n",
       "      <td>0.00188</td>\n",
       "      <td>Aug</td>\n",
       "      <td>2018</td>\n",
       "    </tr>\n",
       "    <tr>\n",
       "      <th>603</th>\n",
       "      <td>Arts, Comedy</td>\n",
       "      <td>0.00426</td>\n",
       "      <td>Aug</td>\n",
       "      <td>2018</td>\n",
       "    </tr>\n",
       "    <tr>\n",
       "      <th>604</th>\n",
       "      <td>Arts, Comedy, Education, Society &amp; Culture</td>\n",
       "      <td>0.00022</td>\n",
       "      <td>Aug</td>\n",
       "      <td>2018</td>\n",
       "    </tr>\n",
       "    <tr>\n",
       "      <th>605</th>\n",
       "      <td>Arts, Comedy, Fiction</td>\n",
       "      <td>0.00020</td>\n",
       "      <td>Aug</td>\n",
       "      <td>2018</td>\n",
       "    </tr>\n",
       "    <tr>\n",
       "      <th>...</th>\n",
       "      <td>...</td>\n",
       "      <td>...</td>\n",
       "      <td>...</td>\n",
       "      <td>...</td>\n",
       "    </tr>\n",
       "    <tr>\n",
       "      <th>9859</th>\n",
       "      <td>Sports</td>\n",
       "      <td>0.13889</td>\n",
       "      <td>Sep</td>\n",
       "      <td>2018</td>\n",
       "    </tr>\n",
       "    <tr>\n",
       "      <th>9860</th>\n",
       "      <td>Sports, TV &amp; Film</td>\n",
       "      <td>0.00035</td>\n",
       "      <td>Sep</td>\n",
       "      <td>2018</td>\n",
       "    </tr>\n",
       "    <tr>\n",
       "      <th>9861</th>\n",
       "      <td>Technology</td>\n",
       "      <td>0.00063</td>\n",
       "      <td>Sep</td>\n",
       "      <td>2018</td>\n",
       "    </tr>\n",
       "    <tr>\n",
       "      <th>9862</th>\n",
       "      <td>True Crime</td>\n",
       "      <td>0.02656</td>\n",
       "      <td>Sep</td>\n",
       "      <td>2018</td>\n",
       "    </tr>\n",
       "    <tr>\n",
       "      <th>9863</th>\n",
       "      <td>TV &amp; Film</td>\n",
       "      <td>0.01694</td>\n",
       "      <td>Sep</td>\n",
       "      <td>2018</td>\n",
       "    </tr>\n",
       "  </tbody>\n",
       "</table>\n",
       "<p>1636 rows × 4 columns</p>\n",
       "</div>"
      ],
      "text/plain": [
       "                        standard_categories_list    index  Mon  Year\n",
       "601                                         Arts  0.01664  Aug  2018\n",
       "602            Arts, Business, Society & Culture  0.00188  Aug  2018\n",
       "603                                 Arts, Comedy  0.00426  Aug  2018\n",
       "604   Arts, Comedy, Education, Society & Culture  0.00022  Aug  2018\n",
       "605                        Arts, Comedy, Fiction  0.00020  Aug  2018\n",
       "...                                          ...      ...  ...   ...\n",
       "9859                                      Sports  0.13889  Sep  2018\n",
       "9860                           Sports, TV & Film  0.00035  Sep  2018\n",
       "9861                                  Technology  0.00063  Sep  2018\n",
       "9862                                  True Crime  0.02656  Sep  2018\n",
       "9863                                   TV & Film  0.01694  Sep  2018\n",
       "\n",
       "[1636 rows x 4 columns]"
      ]
     },
     "execution_count": 24,
     "metadata": {},
     "output_type": "execute_result"
    }
   ],
   "source": [
    "year18"
   ]
  },
  {
   "cell_type": "markdown",
   "id": "atomic-spelling",
   "metadata": {},
   "source": [
    "### 2019"
   ]
  },
  {
   "cell_type": "code",
   "execution_count": 25,
   "id": "burning-trash",
   "metadata": {},
   "outputs": [],
   "source": [
    "year19 = streamsBm[streamsBm['Year'] == '2019']"
   ]
  },
  {
   "cell_type": "code",
   "execution_count": 26,
   "id": "meaningful-gnome",
   "metadata": {},
   "outputs": [
    {
     "data": {
      "text/html": [
       "<div>\n",
       "<style scoped>\n",
       "    .dataframe tbody tr th:only-of-type {\n",
       "        vertical-align: middle;\n",
       "    }\n",
       "\n",
       "    .dataframe tbody tr th {\n",
       "        vertical-align: top;\n",
       "    }\n",
       "\n",
       "    .dataframe thead th {\n",
       "        text-align: right;\n",
       "    }\n",
       "</style>\n",
       "<table border=\"1\" class=\"dataframe\">\n",
       "  <thead>\n",
       "    <tr style=\"text-align: right;\">\n",
       "      <th></th>\n",
       "      <th>standard_categories_list</th>\n",
       "      <th>index</th>\n",
       "      <th>Mon</th>\n",
       "      <th>Year</th>\n",
       "    </tr>\n",
       "  </thead>\n",
       "  <tbody>\n",
       "    <tr>\n",
       "      <th>0</th>\n",
       "      <td>Arts</td>\n",
       "      <td>0.02287</td>\n",
       "      <td>Apr</td>\n",
       "      <td>2019</td>\n",
       "    </tr>\n",
       "    <tr>\n",
       "      <th>1</th>\n",
       "      <td>Arts, Business, Education</td>\n",
       "      <td>0.00012</td>\n",
       "      <td>Apr</td>\n",
       "      <td>2019</td>\n",
       "    </tr>\n",
       "    <tr>\n",
       "      <th>2</th>\n",
       "      <td>Arts, Business, Health &amp; Fitness</td>\n",
       "      <td>0.00015</td>\n",
       "      <td>Apr</td>\n",
       "      <td>2019</td>\n",
       "    </tr>\n",
       "    <tr>\n",
       "      <th>3</th>\n",
       "      <td>Arts, Business, Society &amp; Culture</td>\n",
       "      <td>0.00214</td>\n",
       "      <td>Apr</td>\n",
       "      <td>2019</td>\n",
       "    </tr>\n",
       "    <tr>\n",
       "      <th>4</th>\n",
       "      <td>Arts, Comedy</td>\n",
       "      <td>0.00673</td>\n",
       "      <td>Apr</td>\n",
       "      <td>2019</td>\n",
       "    </tr>\n",
       "    <tr>\n",
       "      <th>...</th>\n",
       "      <td>...</td>\n",
       "      <td>...</td>\n",
       "      <td>...</td>\n",
       "      <td>...</td>\n",
       "    </tr>\n",
       "    <tr>\n",
       "      <th>10178</th>\n",
       "      <td>Sports, TV &amp; Film</td>\n",
       "      <td>0.00065</td>\n",
       "      <td>Sep</td>\n",
       "      <td>2019</td>\n",
       "    </tr>\n",
       "    <tr>\n",
       "      <th>10179</th>\n",
       "      <td>Technology</td>\n",
       "      <td>0.00550</td>\n",
       "      <td>Sep</td>\n",
       "      <td>2019</td>\n",
       "    </tr>\n",
       "    <tr>\n",
       "      <th>10180</th>\n",
       "      <td>True Crime</td>\n",
       "      <td>0.19690</td>\n",
       "      <td>Sep</td>\n",
       "      <td>2019</td>\n",
       "    </tr>\n",
       "    <tr>\n",
       "      <th>10181</th>\n",
       "      <td>TV &amp; Film</td>\n",
       "      <td>0.03553</td>\n",
       "      <td>Sep</td>\n",
       "      <td>2019</td>\n",
       "    </tr>\n",
       "    <tr>\n",
       "      <th>10182</th>\n",
       "      <td>TV &amp; Film, True Crime</td>\n",
       "      <td>0.00046</td>\n",
       "      <td>Sep</td>\n",
       "      <td>2019</td>\n",
       "    </tr>\n",
       "  </tbody>\n",
       "</table>\n",
       "<p>3478 rows × 4 columns</p>\n",
       "</div>"
      ],
      "text/plain": [
       "                standard_categories_list    index  Mon  Year\n",
       "0                                   Arts  0.02287  Apr  2019\n",
       "1              Arts, Business, Education  0.00012  Apr  2019\n",
       "2       Arts, Business, Health & Fitness  0.00015  Apr  2019\n",
       "3      Arts, Business, Society & Culture  0.00214  Apr  2019\n",
       "4                           Arts, Comedy  0.00673  Apr  2019\n",
       "...                                  ...      ...  ...   ...\n",
       "10178                  Sports, TV & Film  0.00065  Sep  2019\n",
       "10179                         Technology  0.00550  Sep  2019\n",
       "10180                         True Crime  0.19690  Sep  2019\n",
       "10181                          TV & Film  0.03553  Sep  2019\n",
       "10182              TV & Film, True Crime  0.00046  Sep  2019\n",
       "\n",
       "[3478 rows x 4 columns]"
      ]
     },
     "execution_count": 26,
     "metadata": {},
     "output_type": "execute_result"
    }
   ],
   "source": [
    "year19"
   ]
  },
  {
   "cell_type": "markdown",
   "id": "fancy-guard",
   "metadata": {},
   "source": [
    "### 2020"
   ]
  },
  {
   "cell_type": "code",
   "execution_count": 27,
   "id": "musical-breath",
   "metadata": {},
   "outputs": [
    {
     "data": {
      "text/html": [
       "<div>\n",
       "<style scoped>\n",
       "    .dataframe tbody tr th:only-of-type {\n",
       "        vertical-align: middle;\n",
       "    }\n",
       "\n",
       "    .dataframe tbody tr th {\n",
       "        vertical-align: top;\n",
       "    }\n",
       "\n",
       "    .dataframe thead th {\n",
       "        text-align: right;\n",
       "    }\n",
       "</style>\n",
       "<table border=\"1\" class=\"dataframe\">\n",
       "  <thead>\n",
       "    <tr style=\"text-align: right;\">\n",
       "      <th></th>\n",
       "      <th>standard_categories_list</th>\n",
       "      <th>index</th>\n",
       "      <th>Mon</th>\n",
       "      <th>Year</th>\n",
       "    </tr>\n",
       "  </thead>\n",
       "  <tbody>\n",
       "    <tr>\n",
       "      <th>264</th>\n",
       "      <td>Arts</td>\n",
       "      <td>0.07501</td>\n",
       "      <td>Apr</td>\n",
       "      <td>2020</td>\n",
       "    </tr>\n",
       "    <tr>\n",
       "      <th>265</th>\n",
       "      <td>Arts, Business</td>\n",
       "      <td>0.00015</td>\n",
       "      <td>Apr</td>\n",
       "      <td>2020</td>\n",
       "    </tr>\n",
       "    <tr>\n",
       "      <th>266</th>\n",
       "      <td>Arts, Business, Comedy, News, Technology</td>\n",
       "      <td>0.00015</td>\n",
       "      <td>Apr</td>\n",
       "      <td>2020</td>\n",
       "    </tr>\n",
       "    <tr>\n",
       "      <th>267</th>\n",
       "      <td>Arts, Business, Education</td>\n",
       "      <td>0.00024</td>\n",
       "      <td>Apr</td>\n",
       "      <td>2020</td>\n",
       "    </tr>\n",
       "    <tr>\n",
       "      <th>268</th>\n",
       "      <td>Arts, Business, Health &amp; Fitness</td>\n",
       "      <td>0.00019</td>\n",
       "      <td>Apr</td>\n",
       "      <td>2020</td>\n",
       "    </tr>\n",
       "    <tr>\n",
       "      <th>...</th>\n",
       "      <td>...</td>\n",
       "      <td>...</td>\n",
       "      <td>...</td>\n",
       "      <td>...</td>\n",
       "    </tr>\n",
       "    <tr>\n",
       "      <th>10549</th>\n",
       "      <td>Sports, TV &amp; Film</td>\n",
       "      <td>0.00220</td>\n",
       "      <td>Sep</td>\n",
       "      <td>2020</td>\n",
       "    </tr>\n",
       "    <tr>\n",
       "      <th>10550</th>\n",
       "      <td>Technology</td>\n",
       "      <td>0.01204</td>\n",
       "      <td>Sep</td>\n",
       "      <td>2020</td>\n",
       "    </tr>\n",
       "    <tr>\n",
       "      <th>10551</th>\n",
       "      <td>True Crime</td>\n",
       "      <td>0.27128</td>\n",
       "      <td>Sep</td>\n",
       "      <td>2020</td>\n",
       "    </tr>\n",
       "    <tr>\n",
       "      <th>10552</th>\n",
       "      <td>TV &amp; Film</td>\n",
       "      <td>0.06240</td>\n",
       "      <td>Sep</td>\n",
       "      <td>2020</td>\n",
       "    </tr>\n",
       "    <tr>\n",
       "      <th>10553</th>\n",
       "      <td>TV &amp; Film, True Crime</td>\n",
       "      <td>0.00365</td>\n",
       "      <td>Sep</td>\n",
       "      <td>2020</td>\n",
       "    </tr>\n",
       "  </tbody>\n",
       "</table>\n",
       "<p>4297 rows × 4 columns</p>\n",
       "</div>"
      ],
      "text/plain": [
       "                       standard_categories_list    index  Mon  Year\n",
       "264                                        Arts  0.07501  Apr  2020\n",
       "265                              Arts, Business  0.00015  Apr  2020\n",
       "266    Arts, Business, Comedy, News, Technology  0.00015  Apr  2020\n",
       "267                   Arts, Business, Education  0.00024  Apr  2020\n",
       "268            Arts, Business, Health & Fitness  0.00019  Apr  2020\n",
       "...                                         ...      ...  ...   ...\n",
       "10549                         Sports, TV & Film  0.00220  Sep  2020\n",
       "10550                                Technology  0.01204  Sep  2020\n",
       "10551                                True Crime  0.27128  Sep  2020\n",
       "10552                                 TV & Film  0.06240  Sep  2020\n",
       "10553                     TV & Film, True Crime  0.00365  Sep  2020\n",
       "\n",
       "[4297 rows x 4 columns]"
      ]
     },
     "execution_count": 27,
     "metadata": {},
     "output_type": "execute_result"
    }
   ],
   "source": [
    "year20 = streamsBm[streamsBm['Year'] == '2020']\n",
    "year20"
   ]
  },
  {
   "cell_type": "markdown",
   "id": "current-german",
   "metadata": {},
   "source": [
    "### 2021"
   ]
  },
  {
   "cell_type": "code",
   "execution_count": 28,
   "id": "intense-accessory",
   "metadata": {},
   "outputs": [
    {
     "data": {
      "text/html": [
       "<div>\n",
       "<style scoped>\n",
       "    .dataframe tbody tr th:only-of-type {\n",
       "        vertical-align: middle;\n",
       "    }\n",
       "\n",
       "    .dataframe tbody tr th {\n",
       "        vertical-align: top;\n",
       "    }\n",
       "\n",
       "    .dataframe thead th {\n",
       "        text-align: right;\n",
       "    }\n",
       "</style>\n",
       "<table border=\"1\" class=\"dataframe\">\n",
       "  <thead>\n",
       "    <tr style=\"text-align: right;\">\n",
       "      <th></th>\n",
       "      <th>standard_categories_list</th>\n",
       "      <th>index</th>\n",
       "      <th>Mon</th>\n",
       "      <th>Year</th>\n",
       "    </tr>\n",
       "  </thead>\n",
       "  <tbody>\n",
       "    <tr>\n",
       "      <th>3028</th>\n",
       "      <td>Arts</td>\n",
       "      <td>0.06901</td>\n",
       "      <td>Feb</td>\n",
       "      <td>2021</td>\n",
       "    </tr>\n",
       "    <tr>\n",
       "      <th>3029</th>\n",
       "      <td>Arts, Business</td>\n",
       "      <td>0.00030</td>\n",
       "      <td>Feb</td>\n",
       "      <td>2021</td>\n",
       "    </tr>\n",
       "    <tr>\n",
       "      <th>3030</th>\n",
       "      <td>Arts, Business, Education</td>\n",
       "      <td>0.00069</td>\n",
       "      <td>Feb</td>\n",
       "      <td>2021</td>\n",
       "    </tr>\n",
       "    <tr>\n",
       "      <th>3031</th>\n",
       "      <td>Arts, Business, Health &amp; Fitness</td>\n",
       "      <td>0.00020</td>\n",
       "      <td>Feb</td>\n",
       "      <td>2021</td>\n",
       "    </tr>\n",
       "    <tr>\n",
       "      <th>3032</th>\n",
       "      <td>Arts, Business, Music</td>\n",
       "      <td>0.00156</td>\n",
       "      <td>Feb</td>\n",
       "      <td>2021</td>\n",
       "    </tr>\n",
       "    <tr>\n",
       "      <th>...</th>\n",
       "      <td>...</td>\n",
       "      <td>...</td>\n",
       "      <td>...</td>\n",
       "      <td>...</td>\n",
       "    </tr>\n",
       "    <tr>\n",
       "      <th>7061</th>\n",
       "      <td>Sports, TV &amp; Film</td>\n",
       "      <td>0.00274</td>\n",
       "      <td>Mar</td>\n",
       "      <td>2021</td>\n",
       "    </tr>\n",
       "    <tr>\n",
       "      <th>7062</th>\n",
       "      <td>Technology</td>\n",
       "      <td>0.03189</td>\n",
       "      <td>Mar</td>\n",
       "      <td>2021</td>\n",
       "    </tr>\n",
       "    <tr>\n",
       "      <th>7063</th>\n",
       "      <td>True Crime</td>\n",
       "      <td>0.30550</td>\n",
       "      <td>Mar</td>\n",
       "      <td>2021</td>\n",
       "    </tr>\n",
       "    <tr>\n",
       "      <th>7064</th>\n",
       "      <td>TV &amp; Film</td>\n",
       "      <td>0.10623</td>\n",
       "      <td>Mar</td>\n",
       "      <td>2021</td>\n",
       "    </tr>\n",
       "    <tr>\n",
       "      <th>7065</th>\n",
       "      <td>TV &amp; Film, True Crime</td>\n",
       "      <td>0.00458</td>\n",
       "      <td>Mar</td>\n",
       "      <td>2021</td>\n",
       "    </tr>\n",
       "  </tbody>\n",
       "</table>\n",
       "<p>1143 rows × 4 columns</p>\n",
       "</div>"
      ],
      "text/plain": [
       "              standard_categories_list    index  Mon  Year\n",
       "3028                              Arts  0.06901  Feb  2021\n",
       "3029                    Arts, Business  0.00030  Feb  2021\n",
       "3030         Arts, Business, Education  0.00069  Feb  2021\n",
       "3031  Arts, Business, Health & Fitness  0.00020  Feb  2021\n",
       "3032             Arts, Business, Music  0.00156  Feb  2021\n",
       "...                                ...      ...  ...   ...\n",
       "7061                 Sports, TV & Film  0.00274  Mar  2021\n",
       "7062                        Technology  0.03189  Mar  2021\n",
       "7063                        True Crime  0.30550  Mar  2021\n",
       "7064                         TV & Film  0.10623  Mar  2021\n",
       "7065             TV & Film, True Crime  0.00458  Mar  2021\n",
       "\n",
       "[1143 rows x 4 columns]"
      ]
     },
     "execution_count": 28,
     "metadata": {},
     "output_type": "execute_result"
    }
   ],
   "source": [
    "year21 = streamsBm[streamsBm['Year'] == '2021']\n",
    "year21"
   ]
  },
  {
   "cell_type": "markdown",
   "id": "threatened-melissa",
   "metadata": {},
   "source": [
    "After splitting the data up by years they were put in order from the genres with the highest number of listens to the ones with the lowest number of listens."
   ]
  },
  {
   "cell_type": "markdown",
   "id": "operational-radiation",
   "metadata": {},
   "source": [
    "### 2018"
   ]
  },
  {
   "cell_type": "code",
   "execution_count": 29,
   "id": "sunset-diary",
   "metadata": {},
   "outputs": [
    {
     "data": {
      "text/html": [
       "<div>\n",
       "<style scoped>\n",
       "    .dataframe tbody tr th:only-of-type {\n",
       "        vertical-align: middle;\n",
       "    }\n",
       "\n",
       "    .dataframe tbody tr th {\n",
       "        vertical-align: top;\n",
       "    }\n",
       "\n",
       "    .dataframe thead th {\n",
       "        text-align: right;\n",
       "    }\n",
       "</style>\n",
       "<table border=\"1\" class=\"dataframe\">\n",
       "  <thead>\n",
       "    <tr style=\"text-align: right;\">\n",
       "      <th></th>\n",
       "      <th>standard_categories_list</th>\n",
       "      <th>index</th>\n",
       "      <th>Mon</th>\n",
       "      <th>Year</th>\n",
       "    </tr>\n",
       "  </thead>\n",
       "  <tbody>\n",
       "    <tr>\n",
       "      <th>1563</th>\n",
       "      <td>Comedy</td>\n",
       "      <td>0.22692</td>\n",
       "      <td>Dec</td>\n",
       "      <td>2018</td>\n",
       "    </tr>\n",
       "    <tr>\n",
       "      <th>7896</th>\n",
       "      <td>Comedy</td>\n",
       "      <td>0.21267</td>\n",
       "      <td>Nov</td>\n",
       "      <td>2018</td>\n",
       "    </tr>\n",
       "    <tr>\n",
       "      <th>8807</th>\n",
       "      <td>Comedy</td>\n",
       "      <td>0.19624</td>\n",
       "      <td>Oct</td>\n",
       "      <td>2018</td>\n",
       "    </tr>\n",
       "    <tr>\n",
       "      <th>666</th>\n",
       "      <td>Comedy</td>\n",
       "      <td>0.17648</td>\n",
       "      <td>Aug</td>\n",
       "      <td>2018</td>\n",
       "    </tr>\n",
       "    <tr>\n",
       "      <th>8949</th>\n",
       "      <td>Sports</td>\n",
       "      <td>0.16444</td>\n",
       "      <td>Oct</td>\n",
       "      <td>2018</td>\n",
       "    </tr>\n",
       "    <tr>\n",
       "      <th>9723</th>\n",
       "      <td>Comedy</td>\n",
       "      <td>0.16423</td>\n",
       "      <td>Sep</td>\n",
       "      <td>2018</td>\n",
       "    </tr>\n",
       "    <tr>\n",
       "      <th>4435</th>\n",
       "      <td>Comedy</td>\n",
       "      <td>0.15934</td>\n",
       "      <td>Jul</td>\n",
       "      <td>2018</td>\n",
       "    </tr>\n",
       "    <tr>\n",
       "      <th>8039</th>\n",
       "      <td>Sports</td>\n",
       "      <td>0.15209</td>\n",
       "      <td>Nov</td>\n",
       "      <td>2018</td>\n",
       "    </tr>\n",
       "    <tr>\n",
       "      <th>1712</th>\n",
       "      <td>Sports</td>\n",
       "      <td>0.14615</td>\n",
       "      <td>Dec</td>\n",
       "      <td>2018</td>\n",
       "    </tr>\n",
       "    <tr>\n",
       "      <th>9859</th>\n",
       "      <td>Sports</td>\n",
       "      <td>0.13889</td>\n",
       "      <td>Sep</td>\n",
       "      <td>2018</td>\n",
       "    </tr>\n",
       "  </tbody>\n",
       "</table>\n",
       "</div>"
      ],
      "text/plain": [
       "     standard_categories_list    index  Mon  Year\n",
       "1563                   Comedy  0.22692  Dec  2018\n",
       "7896                   Comedy  0.21267  Nov  2018\n",
       "8807                   Comedy  0.19624  Oct  2018\n",
       "666                    Comedy  0.17648  Aug  2018\n",
       "8949                   Sports  0.16444  Oct  2018\n",
       "9723                   Comedy  0.16423  Sep  2018\n",
       "4435                   Comedy  0.15934  Jul  2018\n",
       "8039                   Sports  0.15209  Nov  2018\n",
       "1712                   Sports  0.14615  Dec  2018\n",
       "9859                   Sports  0.13889  Sep  2018"
      ]
     },
     "execution_count": 29,
     "metadata": {},
     "output_type": "execute_result"
    }
   ],
   "source": [
    "ascen18 = year18.sort_values( by='index', ascending=False)\n",
    "ascen18.head(10)\n"
   ]
  },
  {
   "cell_type": "code",
   "execution_count": 30,
   "id": "skilled-understanding",
   "metadata": {},
   "outputs": [
    {
     "data": {
      "text/plain": [
       "<AxesSubplot:>"
      ]
     },
     "execution_count": 30,
     "metadata": {},
     "output_type": "execute_result"
    },
    {
     "data": {
      "image/png": "[encoded data removed]",
      "text/plain": [
       "<Figure size 432x288 with 1 Axes>"
      ]
     },
     "metadata": {
      "needs_background": "light"
     },
     "output_type": "display_data"
    }
   ],
   "source": [
    "plot18 = ascen18.head(10)\n",
    "plot18.plot.bar()"
   ]
  },
  {
   "cell_type": "markdown",
   "id": "golden-bulletin",
   "metadata": {},
   "source": [
    "#### In 2018 the most common genres were podcasts with comedy or sports"
   ]
  },
  {
   "cell_type": "markdown",
   "id": "common-forest",
   "metadata": {},
   "source": [
    "### 2019"
   ]
  },
  {
   "cell_type": "code",
   "execution_count": 31,
   "id": "accomplished-silicon",
   "metadata": {},
   "outputs": [
    {
     "data": {
      "text/html": [
       "<div>\n",
       "<style scoped>\n",
       "    .dataframe tbody tr th:only-of-type {\n",
       "        vertical-align: middle;\n",
       "    }\n",
       "\n",
       "    .dataframe tbody tr th {\n",
       "        vertical-align: top;\n",
       "    }\n",
       "\n",
       "    .dataframe thead th {\n",
       "        text-align: right;\n",
       "    }\n",
       "</style>\n",
       "<table border=\"1\" class=\"dataframe\">\n",
       "  <thead>\n",
       "    <tr style=\"text-align: right;\">\n",
       "      <th></th>\n",
       "      <th>standard_categories_list</th>\n",
       "      <th>index</th>\n",
       "      <th>Mon</th>\n",
       "      <th>Year</th>\n",
       "    </tr>\n",
       "  </thead>\n",
       "  <tbody>\n",
       "    <tr>\n",
       "      <th>9064</th>\n",
       "      <td>Comedy</td>\n",
       "      <td>0.59977</td>\n",
       "      <td>Oct</td>\n",
       "      <td>2019</td>\n",
       "    </tr>\n",
       "    <tr>\n",
       "      <th>1823</th>\n",
       "      <td>Comedy</td>\n",
       "      <td>0.58725</td>\n",
       "      <td>Dec</td>\n",
       "      <td>2019</td>\n",
       "    </tr>\n",
       "    <tr>\n",
       "      <th>8151</th>\n",
       "      <td>Comedy</td>\n",
       "      <td>0.58141</td>\n",
       "      <td>Nov</td>\n",
       "      <td>2019</td>\n",
       "    </tr>\n",
       "    <tr>\n",
       "      <th>9242</th>\n",
       "      <td>News</td>\n",
       "      <td>0.57657</td>\n",
       "      <td>Oct</td>\n",
       "      <td>2019</td>\n",
       "    </tr>\n",
       "    <tr>\n",
       "      <th>920</th>\n",
       "      <td>Comedy</td>\n",
       "      <td>0.52178</td>\n",
       "      <td>Aug</td>\n",
       "      <td>2019</td>\n",
       "    </tr>\n",
       "    <tr>\n",
       "      <th>8330</th>\n",
       "      <td>News</td>\n",
       "      <td>0.50691</td>\n",
       "      <td>Nov</td>\n",
       "      <td>2019</td>\n",
       "    </tr>\n",
       "    <tr>\n",
       "      <th>9974</th>\n",
       "      <td>Comedy</td>\n",
       "      <td>0.50473</td>\n",
       "      <td>Sep</td>\n",
       "      <td>2019</td>\n",
       "    </tr>\n",
       "    <tr>\n",
       "      <th>10144</th>\n",
       "      <td>News</td>\n",
       "      <td>0.50111</td>\n",
       "      <td>Sep</td>\n",
       "      <td>2019</td>\n",
       "    </tr>\n",
       "    <tr>\n",
       "      <th>4678</th>\n",
       "      <td>Comedy</td>\n",
       "      <td>0.48471</td>\n",
       "      <td>Jul</td>\n",
       "      <td>2019</td>\n",
       "    </tr>\n",
       "    <tr>\n",
       "      <th>1085</th>\n",
       "      <td>News</td>\n",
       "      <td>0.46095</td>\n",
       "      <td>Aug</td>\n",
       "      <td>2019</td>\n",
       "    </tr>\n",
       "  </tbody>\n",
       "</table>\n",
       "</div>"
      ],
      "text/plain": [
       "      standard_categories_list    index  Mon  Year\n",
       "9064                    Comedy  0.59977  Oct  2019\n",
       "1823                    Comedy  0.58725  Dec  2019\n",
       "8151                    Comedy  0.58141  Nov  2019\n",
       "9242                      News  0.57657  Oct  2019\n",
       "920                     Comedy  0.52178  Aug  2019\n",
       "8330                      News  0.50691  Nov  2019\n",
       "9974                    Comedy  0.50473  Sep  2019\n",
       "10144                     News  0.50111  Sep  2019\n",
       "4678                    Comedy  0.48471  Jul  2019\n",
       "1085                      News  0.46095  Aug  2019"
      ]
     },
     "execution_count": 31,
     "metadata": {},
     "output_type": "execute_result"
    }
   ],
   "source": [
    "ascen19 = year19.sort_values( by='index', ascending=False)\n",
    "ascen19.head(10)"
   ]
  },
  {
   "cell_type": "code",
   "execution_count": 39,
   "id": "maritime-helping",
   "metadata": {},
   "outputs": [
    {
     "data": {
      "text/plain": [
       "<AxesSubplot:>"
      ]
     },
     "execution_count": 39,
     "metadata": {},
     "output_type": "execute_result"
    },
    {
     "data": {
      "image/png": "[encoded data removed]",
      "text/plain": [
       "<Figure size 432x288 with 1 Axes>"
      ]
     },
     "metadata": {
      "needs_background": "light"
     },
     "output_type": "display_data"
    }
   ],
   "source": [
    "plot19 = ascen19.head(10)\n",
    "plot19.plot.bar()"
   ]
  },
  {
   "cell_type": "markdown",
   "id": "happy-dayton",
   "metadata": {},
   "source": [
    "#### In 2019 the most common genres for a podcast were ones that conatined comedy or news"
   ]
  },
  {
   "cell_type": "markdown",
   "id": "hourly-kinase",
   "metadata": {},
   "source": [
    "### 2020"
   ]
  },
  {
   "cell_type": "code",
   "execution_count": 33,
   "id": "destroyed-necessity",
   "metadata": {},
   "outputs": [
    {
     "data": {
      "text/html": [
       "<div>\n",
       "<style scoped>\n",
       "    .dataframe tbody tr th:only-of-type {\n",
       "        vertical-align: middle;\n",
       "    }\n",
       "\n",
       "    .dataframe tbody tr th {\n",
       "        vertical-align: top;\n",
       "    }\n",
       "\n",
       "    .dataframe thead th {\n",
       "        text-align: right;\n",
       "    }\n",
       "</style>\n",
       "<table border=\"1\" class=\"dataframe\">\n",
       "  <thead>\n",
       "    <tr style=\"text-align: right;\">\n",
       "      <th></th>\n",
       "      <th>standard_categories_list</th>\n",
       "      <th>index</th>\n",
       "      <th>Mon</th>\n",
       "      <th>Year</th>\n",
       "    </tr>\n",
       "  </thead>\n",
       "  <tbody>\n",
       "    <tr>\n",
       "      <th>9610</th>\n",
       "      <td>News</td>\n",
       "      <td>1.00000</td>\n",
       "      <td>Oct</td>\n",
       "      <td>2020</td>\n",
       "    </tr>\n",
       "    <tr>\n",
       "      <th>8692</th>\n",
       "      <td>News</td>\n",
       "      <td>0.87176</td>\n",
       "      <td>Nov</td>\n",
       "      <td>2020</td>\n",
       "    </tr>\n",
       "    <tr>\n",
       "      <th>1237</th>\n",
       "      <td>Comedy</td>\n",
       "      <td>0.87100</td>\n",
       "      <td>Aug</td>\n",
       "      <td>2020</td>\n",
       "    </tr>\n",
       "    <tr>\n",
       "      <th>10509</th>\n",
       "      <td>News</td>\n",
       "      <td>0.85720</td>\n",
       "      <td>Sep</td>\n",
       "      <td>2020</td>\n",
       "    </tr>\n",
       "    <tr>\n",
       "      <th>4993</th>\n",
       "      <td>Comedy</td>\n",
       "      <td>0.85058</td>\n",
       "      <td>Jul</td>\n",
       "      <td>2020</td>\n",
       "    </tr>\n",
       "    <tr>\n",
       "      <th>9398</th>\n",
       "      <td>Comedy</td>\n",
       "      <td>0.83374</td>\n",
       "      <td>Oct</td>\n",
       "      <td>2020</td>\n",
       "    </tr>\n",
       "    <tr>\n",
       "      <th>1453</th>\n",
       "      <td>News</td>\n",
       "      <td>0.83320</td>\n",
       "      <td>Aug</td>\n",
       "      <td>2020</td>\n",
       "    </tr>\n",
       "    <tr>\n",
       "      <th>2164</th>\n",
       "      <td>Comedy</td>\n",
       "      <td>0.81778</td>\n",
       "      <td>Dec</td>\n",
       "      <td>2020</td>\n",
       "    </tr>\n",
       "    <tr>\n",
       "      <th>6630</th>\n",
       "      <td>News</td>\n",
       "      <td>0.79995</td>\n",
       "      <td>Mar</td>\n",
       "      <td>2020</td>\n",
       "    </tr>\n",
       "    <tr>\n",
       "      <th>5198</th>\n",
       "      <td>News</td>\n",
       "      <td>0.78405</td>\n",
       "      <td>Jul</td>\n",
       "      <td>2020</td>\n",
       "    </tr>\n",
       "  </tbody>\n",
       "</table>\n",
       "</div>"
      ],
      "text/plain": [
       "      standard_categories_list    index  Mon  Year\n",
       "9610                      News  1.00000  Oct  2020\n",
       "8692                      News  0.87176  Nov  2020\n",
       "1237                    Comedy  0.87100  Aug  2020\n",
       "10509                     News  0.85720  Sep  2020\n",
       "4993                    Comedy  0.85058  Jul  2020\n",
       "9398                    Comedy  0.83374  Oct  2020\n",
       "1453                      News  0.83320  Aug  2020\n",
       "2164                    Comedy  0.81778  Dec  2020\n",
       "6630                      News  0.79995  Mar  2020\n",
       "5198                      News  0.78405  Jul  2020"
      ]
     },
     "execution_count": 33,
     "metadata": {},
     "output_type": "execute_result"
    }
   ],
   "source": [
    "ascen20 = year20.sort_values( by='index', ascending=False)\n",
    "ascen20.head(10)"
   ]
  },
  {
   "cell_type": "code",
   "execution_count": 34,
   "id": "affiliated-bidding",
   "metadata": {},
   "outputs": [
    {
     "data": {
      "text/plain": [
       "<AxesSubplot:>"
      ]
     },
     "execution_count": 34,
     "metadata": {},
     "output_type": "execute_result"
    },
    {
     "data": {
      "image/png": "[encoded data removed]",
      "text/plain": [
       "<Figure size 432x288 with 1 Axes>"
      ]
     },
     "metadata": {
      "needs_background": "light"
     },
     "output_type": "display_data"
    }
   ],
   "source": [
    "plot20 =ascen20.head(20)\n",
    "plot20.plot.bar()"
   ]
  },
  {
   "cell_type": "markdown",
   "id": "impressed-memphis",
   "metadata": {},
   "source": [
    "#### In 2020 the most common genres were News or comdey. \n",
    "#### The years the number of overall listens are much higher 2019 and 2018"
   ]
  },
  {
   "cell_type": "markdown",
   "id": "commercial-ordinary",
   "metadata": {},
   "source": [
    "### 2021"
   ]
  },
  {
   "cell_type": "code",
   "execution_count": 35,
   "id": "norman-purchase",
   "metadata": {},
   "outputs": [
    {
     "data": {
      "text/html": [
       "<div>\n",
       "<style scoped>\n",
       "    .dataframe tbody tr th:only-of-type {\n",
       "        vertical-align: middle;\n",
       "    }\n",
       "\n",
       "    .dataframe tbody tr th {\n",
       "        vertical-align: top;\n",
       "    }\n",
       "\n",
       "    .dataframe thead th {\n",
       "        text-align: right;\n",
       "    }\n",
       "</style>\n",
       "<table border=\"1\" class=\"dataframe\">\n",
       "  <thead>\n",
       "    <tr style=\"text-align: right;\">\n",
       "      <th></th>\n",
       "      <th>standard_categories_list</th>\n",
       "      <th>index</th>\n",
       "      <th>Mon</th>\n",
       "      <th>Year</th>\n",
       "    </tr>\n",
       "  </thead>\n",
       "  <tbody>\n",
       "    <tr>\n",
       "      <th>6800</th>\n",
       "      <td>Comedy</td>\n",
       "      <td>0.91384</td>\n",
       "      <td>Mar</td>\n",
       "      <td>2021</td>\n",
       "    </tr>\n",
       "    <tr>\n",
       "      <th>4325</th>\n",
       "      <td>News</td>\n",
       "      <td>0.84628</td>\n",
       "      <td>Jan</td>\n",
       "      <td>2021</td>\n",
       "    </tr>\n",
       "    <tr>\n",
       "      <th>4110</th>\n",
       "      <td>Comedy</td>\n",
       "      <td>0.82863</td>\n",
       "      <td>Jan</td>\n",
       "      <td>2021</td>\n",
       "    </tr>\n",
       "    <tr>\n",
       "      <th>7017</th>\n",
       "      <td>News</td>\n",
       "      <td>0.80905</td>\n",
       "      <td>Mar</td>\n",
       "      <td>2021</td>\n",
       "    </tr>\n",
       "    <tr>\n",
       "      <th>3143</th>\n",
       "      <td>Comedy</td>\n",
       "      <td>0.80256</td>\n",
       "      <td>Feb</td>\n",
       "      <td>2021</td>\n",
       "    </tr>\n",
       "    <tr>\n",
       "      <th>3355</th>\n",
       "      <td>News</td>\n",
       "      <td>0.74274</td>\n",
       "      <td>Feb</td>\n",
       "      <td>2021</td>\n",
       "    </tr>\n",
       "    <tr>\n",
       "      <th>7059</th>\n",
       "      <td>Sports</td>\n",
       "      <td>0.47580</td>\n",
       "      <td>Mar</td>\n",
       "      <td>2021</td>\n",
       "    </tr>\n",
       "    <tr>\n",
       "      <th>6865</th>\n",
       "      <td>Comedy, Society &amp; Culture</td>\n",
       "      <td>0.45534</td>\n",
       "      <td>Mar</td>\n",
       "      <td>2021</td>\n",
       "    </tr>\n",
       "    <tr>\n",
       "      <th>4366</th>\n",
       "      <td>Sports</td>\n",
       "      <td>0.43483</td>\n",
       "      <td>Jan</td>\n",
       "      <td>2021</td>\n",
       "    </tr>\n",
       "    <tr>\n",
       "      <th>4172</th>\n",
       "      <td>Comedy, Society &amp; Culture</td>\n",
       "      <td>0.42513</td>\n",
       "      <td>Jan</td>\n",
       "      <td>2021</td>\n",
       "    </tr>\n",
       "  </tbody>\n",
       "</table>\n",
       "</div>"
      ],
      "text/plain": [
       "       standard_categories_list    index  Mon  Year\n",
       "6800                     Comedy  0.91384  Mar  2021\n",
       "4325                       News  0.84628  Jan  2021\n",
       "4110                     Comedy  0.82863  Jan  2021\n",
       "7017                       News  0.80905  Mar  2021\n",
       "3143                     Comedy  0.80256  Feb  2021\n",
       "3355                       News  0.74274  Feb  2021\n",
       "7059                     Sports  0.47580  Mar  2021\n",
       "6865  Comedy, Society & Culture  0.45534  Mar  2021\n",
       "4366                     Sports  0.43483  Jan  2021\n",
       "4172  Comedy, Society & Culture  0.42513  Jan  2021"
      ]
     },
     "execution_count": 35,
     "metadata": {},
     "output_type": "execute_result"
    }
   ],
   "source": [
    "ascen21 = year21.sort_values( by='index', ascending=False)\n",
    "ascen21.head(10)"
   ]
  },
  {
   "cell_type": "code",
   "execution_count": 36,
   "id": "wrapped-lawsuit",
   "metadata": {},
   "outputs": [
    {
     "data": {
      "text/plain": [
       "<AxesSubplot:>"
      ]
     },
     "execution_count": 36,
     "metadata": {},
     "output_type": "execute_result"
    },
    {
     "data": {
      "image/png": "[encoded data removed]",
      "text/plain": [
       "<Figure size 432x288 with 1 Axes>"
      ]
     },
     "metadata": {
      "needs_background": "light"
     },
     "output_type": "display_data"
    }
   ],
   "source": [
    "plot21 = ascen21.head(10)\n",
    "plot21.plot.bar()"
   ]
  },
  {
   "cell_type": "markdown",
   "id": "breeding-connection",
   "metadata": {},
   "source": [
    "#### So far in 2021 the most popular genres have been podcasts with Comedy, News or Sports in them. "
   ]
  },
  {
   "cell_type": "code",
   "execution_count": 37,
   "id": "secret-mathematics",
   "metadata": {},
   "outputs": [
    {
     "data": {
      "text/html": [
       "<div>\n",
       "<style scoped>\n",
       "    .dataframe tbody tr th:only-of-type {\n",
       "        vertical-align: middle;\n",
       "    }\n",
       "\n",
       "    .dataframe tbody tr th {\n",
       "        vertical-align: top;\n",
       "    }\n",
       "\n",
       "    .dataframe thead th {\n",
       "        text-align: right;\n",
       "    }\n",
       "</style>\n",
       "<table border=\"1\" class=\"dataframe\">\n",
       "  <thead>\n",
       "    <tr style=\"text-align: right;\">\n",
       "      <th></th>\n",
       "      <th>standard_categories_list</th>\n",
       "      <th>index</th>\n",
       "      <th>Mon</th>\n",
       "      <th>Year</th>\n",
       "    </tr>\n",
       "  </thead>\n",
       "  <tbody>\n",
       "    <tr>\n",
       "      <th>9610</th>\n",
       "      <td>News</td>\n",
       "      <td>1.00000</td>\n",
       "      <td>Oct</td>\n",
       "      <td>2020</td>\n",
       "    </tr>\n",
       "    <tr>\n",
       "      <th>6800</th>\n",
       "      <td>Comedy</td>\n",
       "      <td>0.91384</td>\n",
       "      <td>Mar</td>\n",
       "      <td>2021</td>\n",
       "    </tr>\n",
       "    <tr>\n",
       "      <th>8692</th>\n",
       "      <td>News</td>\n",
       "      <td>0.87176</td>\n",
       "      <td>Nov</td>\n",
       "      <td>2020</td>\n",
       "    </tr>\n",
       "    <tr>\n",
       "      <th>1237</th>\n",
       "      <td>Comedy</td>\n",
       "      <td>0.87100</td>\n",
       "      <td>Aug</td>\n",
       "      <td>2020</td>\n",
       "    </tr>\n",
       "    <tr>\n",
       "      <th>10509</th>\n",
       "      <td>News</td>\n",
       "      <td>0.85720</td>\n",
       "      <td>Sep</td>\n",
       "      <td>2020</td>\n",
       "    </tr>\n",
       "    <tr>\n",
       "      <th>4993</th>\n",
       "      <td>Comedy</td>\n",
       "      <td>0.85058</td>\n",
       "      <td>Jul</td>\n",
       "      <td>2020</td>\n",
       "    </tr>\n",
       "    <tr>\n",
       "      <th>4325</th>\n",
       "      <td>News</td>\n",
       "      <td>0.84628</td>\n",
       "      <td>Jan</td>\n",
       "      <td>2021</td>\n",
       "    </tr>\n",
       "    <tr>\n",
       "      <th>9398</th>\n",
       "      <td>Comedy</td>\n",
       "      <td>0.83374</td>\n",
       "      <td>Oct</td>\n",
       "      <td>2020</td>\n",
       "    </tr>\n",
       "    <tr>\n",
       "      <th>1453</th>\n",
       "      <td>News</td>\n",
       "      <td>0.83320</td>\n",
       "      <td>Aug</td>\n",
       "      <td>2020</td>\n",
       "    </tr>\n",
       "    <tr>\n",
       "      <th>4110</th>\n",
       "      <td>Comedy</td>\n",
       "      <td>0.82863</td>\n",
       "      <td>Jan</td>\n",
       "      <td>2021</td>\n",
       "    </tr>\n",
       "    <tr>\n",
       "      <th>2164</th>\n",
       "      <td>Comedy</td>\n",
       "      <td>0.81778</td>\n",
       "      <td>Dec</td>\n",
       "      <td>2020</td>\n",
       "    </tr>\n",
       "    <tr>\n",
       "      <th>7017</th>\n",
       "      <td>News</td>\n",
       "      <td>0.80905</td>\n",
       "      <td>Mar</td>\n",
       "      <td>2021</td>\n",
       "    </tr>\n",
       "    <tr>\n",
       "      <th>3143</th>\n",
       "      <td>Comedy</td>\n",
       "      <td>0.80256</td>\n",
       "      <td>Feb</td>\n",
       "      <td>2021</td>\n",
       "    </tr>\n",
       "    <tr>\n",
       "      <th>6630</th>\n",
       "      <td>News</td>\n",
       "      <td>0.79995</td>\n",
       "      <td>Mar</td>\n",
       "      <td>2020</td>\n",
       "    </tr>\n",
       "    <tr>\n",
       "      <th>5198</th>\n",
       "      <td>News</td>\n",
       "      <td>0.78405</td>\n",
       "      <td>Jul</td>\n",
       "      <td>2020</td>\n",
       "    </tr>\n",
       "  </tbody>\n",
       "</table>\n",
       "</div>"
      ],
      "text/plain": [
       "      standard_categories_list    index  Mon  Year\n",
       "9610                      News  1.00000  Oct  2020\n",
       "6800                    Comedy  0.91384  Mar  2021\n",
       "8692                      News  0.87176  Nov  2020\n",
       "1237                    Comedy  0.87100  Aug  2020\n",
       "10509                     News  0.85720  Sep  2020\n",
       "4993                    Comedy  0.85058  Jul  2020\n",
       "4325                      News  0.84628  Jan  2021\n",
       "9398                    Comedy  0.83374  Oct  2020\n",
       "1453                      News  0.83320  Aug  2020\n",
       "4110                    Comedy  0.82863  Jan  2021\n",
       "2164                    Comedy  0.81778  Dec  2020\n",
       "7017                      News  0.80905  Mar  2021\n",
       "3143                    Comedy  0.80256  Feb  2021\n",
       "6630                      News  0.79995  Mar  2020\n",
       "5198                      News  0.78405  Jul  2020"
      ]
     },
     "execution_count": 37,
     "metadata": {},
     "output_type": "execute_result"
    }
   ],
   "source": [
    "ascenAll = streamsBm.sort_values(by='index', ascending=False)\n",
    "ascenAll.head(15)"
   ]
  },
  {
   "cell_type": "code",
   "execution_count": 38,
   "id": "baking-canon",
   "metadata": {},
   "outputs": [
    {
     "data": {
      "text/plain": [
       "<AxesSubplot:>"
      ]
     },
     "execution_count": 38,
     "metadata": {},
     "output_type": "execute_result"
    },
    {
     "data": {
      "image/png": "[encoded data removed]",
      "text/plain": [
       "<Figure size 432x288 with 1 Axes>"
      ]
     },
     "metadata": {
      "needs_background": "light"
     },
     "output_type": "display_data"
    }
   ],
   "source": [
    "plotAll = ascenAll.head(15)\n",
    "plotAll.plot.bar()"
   ]
  },
  {
   "cell_type": "markdown",
   "id": "central-weekly",
   "metadata": {},
   "source": [
    "### Yearly Comparisons"
   ]
  },
  {
   "cell_type": "markdown",
   "id": "considerable-parent",
   "metadata": {},
   "source": [
    "Overall every year the top tens consisted of both comedy and News. The biggest changes for 2018 and 2019 were the positions that they were placed. In 2020 the number of the podcast in the top ten with the news was much higher than comedy. For 2021 sports were in the top ten which is unlike the rest of the years it also had a genre under comedy, society, and culture. "
   ]
  },
  {
   "cell_type": "markdown",
   "id": "global-spain",
   "metadata": {},
   "source": [
    "A reason that 2020 could have a higher number of listens for news than comedy could be the election and people wanting to know more about it. 2021 sports could be higher because the draft just happened and there has been a lot of sports news as sports come back in 2021"
   ]
  },
  {
   "cell_type": "markdown",
   "id": "educated-springer",
   "metadata": {},
   "source": [
    "### Overall"
   ]
  },
  {
   "cell_type": "markdown",
   "id": "turned-brooks",
   "metadata": {},
   "source": [
    "Overall the most popular genres for podcasts are a combination of comedy or news. These are the genres that have been consistently on the top for the last few years and overall those genres were the only ones in the top 15. So, it is safe to say podcasts with a comedy or a new tag in their genre have a higher percentage of listens than others."
   ]
  }
 ],
 "metadata": {
  "kernelspec": {
   "display_name": "Python 3",
   "language": "python",
   "name": "python3"
  },
  "language_info": {
   "codemirror_mode": {
    "name": "ipython",
    "version": 3
   },
   "file_extension": ".py",
   "mimetype": "text/x-python",
   "name": "python",
   "nbconvert_exporter": "python",
   "pygments_lexer": "ipython3",
   "version": "3.9.1"
  }
 },
 "nbformat": 4,
 "nbformat_minor": 5
}
