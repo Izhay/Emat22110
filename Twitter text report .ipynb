{
 "cells": [
  {
   "cell_type": "markdown",
   "id": "tough-programmer",
   "metadata": {},
   "source": [
    "# Climate Change Twitter Text Report\n"
   ]
  },
  {
   "cell_type": "markdown",
   "id": "superb-nothing",
   "metadata": {},
   "source": [
    "In this text report we will looking at the sentiment towards climate change form twitter between April 3 - 4 in 2013. The goal is to discover what what people thought about climate change from this period of time. We are also looking for the ideas thagt people said the most about climate change and what were some of the most frequenty ideas people twitted about."
   ]
  },
  {
   "cell_type": "markdown",
   "id": "systematic-merchandise",
   "metadata": {},
   "source": [
    "importing libaries for this report"
   ]
  },
  {
   "cell_type": "code",
   "execution_count": 1,
   "id": "hourly-dover",
   "metadata": {},
   "outputs": [],
   "source": [
    "import pandas as pd\n",
    "from vaderSentiment.vaderSentiment import SentimentIntensityAnalyzer\n",
    "import warnings\n",
    "from matplotlib import pyplot as plt\n",
    "from datetime import datetime as dt\n",
    "from scipy import stats"
   ]
  },
  {
   "cell_type": "markdown",
   "id": "specialized-slave",
   "metadata": {},
   "source": [
    "Importing the file"
   ]
  },
  {
   "cell_type": "code",
   "execution_count": 2,
   "id": "established-congress",
   "metadata": {},
   "outputs": [],
   "source": [
    "climate = pd.read_csv('ClimateChange2.csv')"
   ]
  },
  {
   "cell_type": "code",
   "execution_count": 3,
   "id": "coordinated-success",
   "metadata": {},
   "outputs": [
    {
     "data": {
      "text/plain": [
       "Index(['Unnamed: 0', 'Date', 'Title', 'Url', 'Domain', 'Language', 'Author',\n",
       "       'Full Name', 'Full Text', 'Impressions', 'Original Url',\n",
       "       'Thread Author', 'Thread Created Date', 'Thread Entry Type',\n",
       "       'Twitter Followers', 'Twitter Following', 'Twitter Reply Count',\n",
       "       'Twitter Retweets', 'Twitter Verified'],\n",
       "      dtype='object')"
      ]
     },
     "execution_count": 3,
     "metadata": {},
     "output_type": "execute_result"
    }
   ],
   "source": [
    "climate.keys()"
   ]
  },
  {
   "cell_type": "code",
   "execution_count": 24,
   "id": "czech-physics",
   "metadata": {},
   "outputs": [
    {
     "data": {
      "text/html": [
       "<div>\n",
       "<style scoped>\n",
       "    .dataframe tbody tr th:only-of-type {\n",
       "        vertical-align: middle;\n",
       "    }\n",
       "\n",
       "    .dataframe tbody tr th {\n",
       "        vertical-align: top;\n",
       "    }\n",
       "\n",
       "    .dataframe thead th {\n",
       "        text-align: right;\n",
       "    }\n",
       "</style>\n",
       "<table border=\"1\" class=\"dataframe\">\n",
       "  <thead>\n",
       "    <tr style=\"text-align: right;\">\n",
       "      <th></th>\n",
       "      <th>Unnamed: 0</th>\n",
       "      <th>Date</th>\n",
       "      <th>Title</th>\n",
       "      <th>Url</th>\n",
       "      <th>Domain</th>\n",
       "      <th>Language</th>\n",
       "      <th>Author</th>\n",
       "      <th>Full Name</th>\n",
       "      <th>Full Text</th>\n",
       "      <th>Impressions</th>\n",
       "      <th>Original Url</th>\n",
       "      <th>Thread Author</th>\n",
       "      <th>Thread Created Date</th>\n",
       "      <th>Thread Entry Type</th>\n",
       "      <th>Twitter Followers</th>\n",
       "      <th>Twitter Following</th>\n",
       "      <th>Twitter Reply Count</th>\n",
       "      <th>Twitter Retweets</th>\n",
       "      <th>Twitter Verified</th>\n",
       "    </tr>\n",
       "  </thead>\n",
       "  <tbody>\n",
       "    <tr>\n",
       "      <th>0</th>\n",
       "      <td>0</td>\n",
       "      <td>2013-04-04 23:59:06.0</td>\n",
       "      <td>RT @MarionGroves Abbott says 10yrs ago he wore...</td>\n",
       "      <td>http://twitter.com/Qldaah/statuses/31996236101...</td>\n",
       "      <td>twitter.com</td>\n",
       "      <td>en</td>\n",
       "      <td>Qldaah</td>\n",
       "      <td>Qldaah (David Marler)</td>\n",
       "      <td>RT @MarionGroves Abbott says 10yrs ago he wore...</td>\n",
       "      <td>1413</td>\n",
       "      <td>http://twitter.com/Qldaah/statuses/31996236101...</td>\n",
       "      <td>NaN</td>\n",
       "      <td>NaN</td>\n",
       "      <td>post</td>\n",
       "      <td>1413</td>\n",
       "      <td>1990</td>\n",
       "      <td>0</td>\n",
       "      <td>0</td>\n",
       "      <td>False</td>\n",
       "    </tr>\n",
       "    <tr>\n",
       "      <th>1</th>\n",
       "      <td>2</td>\n",
       "      <td>2013-04-04 23:58:04.0</td>\n",
       "      <td>RT @NSWFarmers RT @AustFarmInstitu: Two climat...</td>\n",
       "      <td>http://twitter.com/TheFacelessSpin/statuses/31...</td>\n",
       "      <td>twitter.com</td>\n",
       "      <td>en</td>\n",
       "      <td>TheFacelessSpin</td>\n",
       "      <td>TheFacelessSpin (FacelessFocusGroup)</td>\n",
       "      <td>RT @NSWFarmers RT @AustFarmInstitu: Two climat...</td>\n",
       "      <td>1063</td>\n",
       "      <td>http://twitter.com/TheFacelessSpin/statuses/31...</td>\n",
       "      <td>NaN</td>\n",
       "      <td>NaN</td>\n",
       "      <td>post</td>\n",
       "      <td>1063</td>\n",
       "      <td>471</td>\n",
       "      <td>0</td>\n",
       "      <td>0</td>\n",
       "      <td>False</td>\n",
       "    </tr>\n",
       "    <tr>\n",
       "      <th>2</th>\n",
       "      <td>3</td>\n",
       "      <td>2013-04-04 23:57:33.0</td>\n",
       "      <td>Steve Stockman Hopes James Hansen's NASA Retir...</td>\n",
       "      <td>http://twitter.com/iamgreenbean/statuses/31996...</td>\n",
       "      <td>twitter.com</td>\n",
       "      <td>en</td>\n",
       "      <td>iamgreenbean</td>\n",
       "      <td>iamgreenbean (Green Bean)</td>\n",
       "      <td>Steve Stockman Hopes James Hansen's NASA Retir...</td>\n",
       "      <td>4365</td>\n",
       "      <td>http://twitter.com/iamgreenbean/statuses/31996...</td>\n",
       "      <td>NaN</td>\n",
       "      <td>NaN</td>\n",
       "      <td>post</td>\n",
       "      <td>4365</td>\n",
       "      <td>4369</td>\n",
       "      <td>0</td>\n",
       "      <td>0</td>\n",
       "      <td>False</td>\n",
       "    </tr>\n",
       "    <tr>\n",
       "      <th>3</th>\n",
       "      <td>4</td>\n",
       "      <td>2013-04-04 23:57:01.0</td>\n",
       "      <td>Ted Turner Tells Obama to Get 'Climate Change ...</td>\n",
       "      <td>http://twitter.com/cpwilldo/statuses/319961839...</td>\n",
       "      <td>twitter.com</td>\n",
       "      <td>en</td>\n",
       "      <td>cpwilldo</td>\n",
       "      <td>cpwilldo (chris price)</td>\n",
       "      <td>Ted Turner Tells Obama to Get 'Climate Change ...</td>\n",
       "      <td>3477</td>\n",
       "      <td>http://twitter.com/cpwilldo/statuses/319961839...</td>\n",
       "      <td>NaN</td>\n",
       "      <td>NaN</td>\n",
       "      <td>post</td>\n",
       "      <td>3477</td>\n",
       "      <td>3806</td>\n",
       "      <td>0</td>\n",
       "      <td>0</td>\n",
       "      <td>False</td>\n",
       "    </tr>\n",
       "    <tr>\n",
       "      <th>4</th>\n",
       "      <td>5</td>\n",
       "      <td>2013-04-04 23:56:52.0</td>\n",
       "      <td>The human race will never fully adapt to clima...</td>\n",
       "      <td>http://twitter.com/GreenSteve_com/statuses/319...</td>\n",
       "      <td>twitter.com</td>\n",
       "      <td>en</td>\n",
       "      <td>GreenSteve_com</td>\n",
       "      <td>GreenSteve_com (Green Steve)</td>\n",
       "      <td>The human race will never fully adapt to clima...</td>\n",
       "      <td>5298</td>\n",
       "      <td>http://twitter.com/GreenSteve_com/statuses/319...</td>\n",
       "      <td>NaN</td>\n",
       "      <td>NaN</td>\n",
       "      <td>post</td>\n",
       "      <td>5298</td>\n",
       "      <td>4840</td>\n",
       "      <td>0</td>\n",
       "      <td>0</td>\n",
       "      <td>False</td>\n",
       "    </tr>\n",
       "  </tbody>\n",
       "</table>\n",
       "</div>"
      ],
      "text/plain": [
       "   Unnamed: 0                   Date  \\\n",
       "0           0  2013-04-04 23:59:06.0   \n",
       "1           2  2013-04-04 23:58:04.0   \n",
       "2           3  2013-04-04 23:57:33.0   \n",
       "3           4  2013-04-04 23:57:01.0   \n",
       "4           5  2013-04-04 23:56:52.0   \n",
       "\n",
       "                                               Title  \\\n",
       "0  RT @MarionGroves Abbott says 10yrs ago he wore...   \n",
       "1  RT @NSWFarmers RT @AustFarmInstitu: Two climat...   \n",
       "2  Steve Stockman Hopes James Hansen's NASA Retir...   \n",
       "3  Ted Turner Tells Obama to Get 'Climate Change ...   \n",
       "4  The human race will never fully adapt to clima...   \n",
       "\n",
       "                                                 Url       Domain Language  \\\n",
       "0  http://twitter.com/Qldaah/statuses/31996236101...  twitter.com       en   \n",
       "1  http://twitter.com/TheFacelessSpin/statuses/31...  twitter.com       en   \n",
       "2  http://twitter.com/iamgreenbean/statuses/31996...  twitter.com       en   \n",
       "3  http://twitter.com/cpwilldo/statuses/319961839...  twitter.com       en   \n",
       "4  http://twitter.com/GreenSteve_com/statuses/319...  twitter.com       en   \n",
       "\n",
       "            Author                             Full Name  \\\n",
       "0           Qldaah                 Qldaah (David Marler)   \n",
       "1  TheFacelessSpin  TheFacelessSpin (FacelessFocusGroup)   \n",
       "2     iamgreenbean             iamgreenbean (Green Bean)   \n",
       "3         cpwilldo                cpwilldo (chris price)   \n",
       "4   GreenSteve_com          GreenSteve_com (Green Steve)   \n",
       "\n",
       "                                           Full Text  Impressions  \\\n",
       "0  RT @MarionGroves Abbott says 10yrs ago he wore...         1413   \n",
       "1  RT @NSWFarmers RT @AustFarmInstitu: Two climat...         1063   \n",
       "2  Steve Stockman Hopes James Hansen's NASA Retir...         4365   \n",
       "3  Ted Turner Tells Obama to Get 'Climate Change ...         3477   \n",
       "4  The human race will never fully adapt to clima...         5298   \n",
       "\n",
       "                                        Original Url  Thread Author  \\\n",
       "0  http://twitter.com/Qldaah/statuses/31996236101...            NaN   \n",
       "1  http://twitter.com/TheFacelessSpin/statuses/31...            NaN   \n",
       "2  http://twitter.com/iamgreenbean/statuses/31996...            NaN   \n",
       "3  http://twitter.com/cpwilldo/statuses/319961839...            NaN   \n",
       "4  http://twitter.com/GreenSteve_com/statuses/319...            NaN   \n",
       "\n",
       "   Thread Created Date Thread Entry Type  Twitter Followers  \\\n",
       "0                  NaN              post               1413   \n",
       "1                  NaN              post               1063   \n",
       "2                  NaN              post               4365   \n",
       "3                  NaN              post               3477   \n",
       "4                  NaN              post               5298   \n",
       "\n",
       "   Twitter Following  Twitter Reply Count  Twitter Retweets  Twitter Verified  \n",
       "0               1990                    0                 0             False  \n",
       "1                471                    0                 0             False  \n",
       "2               4369                    0                 0             False  \n",
       "3               3806                    0                 0             False  \n",
       "4               4840                    0                 0             False  "
      ]
     },
     "execution_count": 24,
     "metadata": {},
     "output_type": "execute_result"
    }
   ],
   "source": [
    "climate.head()"
   ]
  },
  {
   "cell_type": "code",
   "execution_count": 5,
   "id": "average-rouge",
   "metadata": {},
   "outputs": [
    {
     "data": {
      "text/plain": [
       "'en'"
      ]
     },
     "execution_count": 5,
     "metadata": {},
     "output_type": "execute_result"
    }
   ],
   "source": [
    "climate['Language'][101]"
   ]
  },
  {
   "cell_type": "code",
   "execution_count": 6,
   "id": "crucial-syria",
   "metadata": {},
   "outputs": [],
   "source": [
    "en_cl = climate.loc[climate['Language'] == 'en']"
   ]
  },
  {
   "cell_type": "markdown",
   "id": "becoming-ceremony",
   "metadata": {},
   "source": [
    "The code above make sure that the tweets are in english"
   ]
  },
  {
   "cell_type": "markdown",
   "id": "considered-innocent",
   "metadata": {},
   "source": [
    "The code below removes retweets from the dataframe"
   ]
  },
  {
   "cell_type": "code",
   "execution_count": 7,
   "id": "hearing-kinase",
   "metadata": {},
   "outputs": [
    {
     "data": {
      "text/html": [
       "<div>\n",
       "<style scoped>\n",
       "    .dataframe tbody tr th:only-of-type {\n",
       "        vertical-align: middle;\n",
       "    }\n",
       "\n",
       "    .dataframe tbody tr th {\n",
       "        vertical-align: top;\n",
       "    }\n",
       "\n",
       "    .dataframe thead th {\n",
       "        text-align: right;\n",
       "    }\n",
       "</style>\n",
       "<table border=\"1\" class=\"dataframe\">\n",
       "  <thead>\n",
       "    <tr style=\"text-align: right;\">\n",
       "      <th></th>\n",
       "      <th>Unnamed: 0</th>\n",
       "      <th>Date</th>\n",
       "      <th>Title</th>\n",
       "      <th>Url</th>\n",
       "      <th>Domain</th>\n",
       "      <th>Language</th>\n",
       "      <th>Author</th>\n",
       "      <th>Full Name</th>\n",
       "      <th>Full Text</th>\n",
       "      <th>Impressions</th>\n",
       "      <th>Original Url</th>\n",
       "      <th>Thread Author</th>\n",
       "      <th>Thread Created Date</th>\n",
       "      <th>Thread Entry Type</th>\n",
       "      <th>Twitter Followers</th>\n",
       "      <th>Twitter Following</th>\n",
       "      <th>Twitter Reply Count</th>\n",
       "      <th>Twitter Retweets</th>\n",
       "      <th>Twitter Verified</th>\n",
       "    </tr>\n",
       "  </thead>\n",
       "  <tbody>\n",
       "    <tr>\n",
       "      <th>0</th>\n",
       "      <td>0</td>\n",
       "      <td>2013-04-04 23:59:06.0</td>\n",
       "      <td>RT @MarionGroves Abbott says 10yrs ago he wore...</td>\n",
       "      <td>http://twitter.com/Qldaah/statuses/31996236101...</td>\n",
       "      <td>twitter.com</td>\n",
       "      <td>en</td>\n",
       "      <td>Qldaah</td>\n",
       "      <td>Qldaah (David Marler)</td>\n",
       "      <td>RT @MarionGroves Abbott says 10yrs ago he wore...</td>\n",
       "      <td>1413</td>\n",
       "      <td>http://twitter.com/Qldaah/statuses/31996236101...</td>\n",
       "      <td>NaN</td>\n",
       "      <td>NaN</td>\n",
       "      <td>post</td>\n",
       "      <td>1413</td>\n",
       "      <td>1990</td>\n",
       "      <td>0</td>\n",
       "      <td>0</td>\n",
       "      <td>False</td>\n",
       "    </tr>\n",
       "    <tr>\n",
       "      <th>1</th>\n",
       "      <td>2</td>\n",
       "      <td>2013-04-04 23:58:04.0</td>\n",
       "      <td>RT @NSWFarmers RT @AustFarmInstitu: Two climat...</td>\n",
       "      <td>http://twitter.com/TheFacelessSpin/statuses/31...</td>\n",
       "      <td>twitter.com</td>\n",
       "      <td>en</td>\n",
       "      <td>TheFacelessSpin</td>\n",
       "      <td>TheFacelessSpin (FacelessFocusGroup)</td>\n",
       "      <td>RT @NSWFarmers RT @AustFarmInstitu: Two climat...</td>\n",
       "      <td>1063</td>\n",
       "      <td>http://twitter.com/TheFacelessSpin/statuses/31...</td>\n",
       "      <td>NaN</td>\n",
       "      <td>NaN</td>\n",
       "      <td>post</td>\n",
       "      <td>1063</td>\n",
       "      <td>471</td>\n",
       "      <td>0</td>\n",
       "      <td>0</td>\n",
       "      <td>False</td>\n",
       "    </tr>\n",
       "    <tr>\n",
       "      <th>2</th>\n",
       "      <td>3</td>\n",
       "      <td>2013-04-04 23:57:33.0</td>\n",
       "      <td>Steve Stockman Hopes James Hansen's NASA Retir...</td>\n",
       "      <td>http://twitter.com/iamgreenbean/statuses/31996...</td>\n",
       "      <td>twitter.com</td>\n",
       "      <td>en</td>\n",
       "      <td>iamgreenbean</td>\n",
       "      <td>iamgreenbean (Green Bean)</td>\n",
       "      <td>Steve Stockman Hopes James Hansen's NASA Retir...</td>\n",
       "      <td>4365</td>\n",
       "      <td>http://twitter.com/iamgreenbean/statuses/31996...</td>\n",
       "      <td>NaN</td>\n",
       "      <td>NaN</td>\n",
       "      <td>post</td>\n",
       "      <td>4365</td>\n",
       "      <td>4369</td>\n",
       "      <td>0</td>\n",
       "      <td>0</td>\n",
       "      <td>False</td>\n",
       "    </tr>\n",
       "    <tr>\n",
       "      <th>3</th>\n",
       "      <td>4</td>\n",
       "      <td>2013-04-04 23:57:01.0</td>\n",
       "      <td>Ted Turner Tells Obama to Get 'Climate Change ...</td>\n",
       "      <td>http://twitter.com/cpwilldo/statuses/319961839...</td>\n",
       "      <td>twitter.com</td>\n",
       "      <td>en</td>\n",
       "      <td>cpwilldo</td>\n",
       "      <td>cpwilldo (chris price)</td>\n",
       "      <td>Ted Turner Tells Obama to Get 'Climate Change ...</td>\n",
       "      <td>3477</td>\n",
       "      <td>http://twitter.com/cpwilldo/statuses/319961839...</td>\n",
       "      <td>NaN</td>\n",
       "      <td>NaN</td>\n",
       "      <td>post</td>\n",
       "      <td>3477</td>\n",
       "      <td>3806</td>\n",
       "      <td>0</td>\n",
       "      <td>0</td>\n",
       "      <td>False</td>\n",
       "    </tr>\n",
       "    <tr>\n",
       "      <th>4</th>\n",
       "      <td>5</td>\n",
       "      <td>2013-04-04 23:56:52.0</td>\n",
       "      <td>The human race will never fully adapt to clima...</td>\n",
       "      <td>http://twitter.com/GreenSteve_com/statuses/319...</td>\n",
       "      <td>twitter.com</td>\n",
       "      <td>en</td>\n",
       "      <td>GreenSteve_com</td>\n",
       "      <td>GreenSteve_com (Green Steve)</td>\n",
       "      <td>The human race will never fully adapt to clima...</td>\n",
       "      <td>5298</td>\n",
       "      <td>http://twitter.com/GreenSteve_com/statuses/319...</td>\n",
       "      <td>NaN</td>\n",
       "      <td>NaN</td>\n",
       "      <td>post</td>\n",
       "      <td>5298</td>\n",
       "      <td>4840</td>\n",
       "      <td>0</td>\n",
       "      <td>0</td>\n",
       "      <td>False</td>\n",
       "    </tr>\n",
       "    <tr>\n",
       "      <th>...</th>\n",
       "      <td>...</td>\n",
       "      <td>...</td>\n",
       "      <td>...</td>\n",
       "      <td>...</td>\n",
       "      <td>...</td>\n",
       "      <td>...</td>\n",
       "      <td>...</td>\n",
       "      <td>...</td>\n",
       "      <td>...</td>\n",
       "      <td>...</td>\n",
       "      <td>...</td>\n",
       "      <td>...</td>\n",
       "      <td>...</td>\n",
       "      <td>...</td>\n",
       "      <td>...</td>\n",
       "      <td>...</td>\n",
       "      <td>...</td>\n",
       "      <td>...</td>\n",
       "      <td>...</td>\n",
       "    </tr>\n",
       "    <tr>\n",
       "      <th>7146</th>\n",
       "      <td>10062</td>\n",
       "      <td>2013-04-03 00:01:46.0</td>\n",
       "      <td>RT @SebHenbest The @ClimateComm new report lin...</td>\n",
       "      <td>http://twitter.com/kmac/statuses/3192382570051...</td>\n",
       "      <td>twitter.com</td>\n",
       "      <td>en</td>\n",
       "      <td>kmac</td>\n",
       "      <td>kmac (Kate Mackenzie)</td>\n",
       "      <td>RT @SebHenbest The @ClimateComm new report lin...</td>\n",
       "      <td>3826</td>\n",
       "      <td>http://twitter.com/kmac/statuses/3192382570051...</td>\n",
       "      <td>NaN</td>\n",
       "      <td>NaN</td>\n",
       "      <td>post</td>\n",
       "      <td>3826</td>\n",
       "      <td>1657</td>\n",
       "      <td>0</td>\n",
       "      <td>0</td>\n",
       "      <td>True</td>\n",
       "    </tr>\n",
       "    <tr>\n",
       "      <th>7147</th>\n",
       "      <td>10063</td>\n",
       "      <td>2013-04-03 00:01:26.0</td>\n",
       "      <td>Think it's all hype? Might wanna listen to thi...</td>\n",
       "      <td>http://twitter.com/LFreshwater/statuses/319238...</td>\n",
       "      <td>twitter.com</td>\n",
       "      <td>en</td>\n",
       "      <td>LFreshwater</td>\n",
       "      <td>LFreshwater (Lou Freshwater)</td>\n",
       "      <td>Think it's all hype? Might wanna listen to thi...</td>\n",
       "      <td>1048</td>\n",
       "      <td>http://twitter.com/LFreshwater/statuses/319238...</td>\n",
       "      <td>NaN</td>\n",
       "      <td>NaN</td>\n",
       "      <td>post</td>\n",
       "      <td>1048</td>\n",
       "      <td>719</td>\n",
       "      <td>0</td>\n",
       "      <td>0</td>\n",
       "      <td>False</td>\n",
       "    </tr>\n",
       "    <tr>\n",
       "      <th>7148</th>\n",
       "      <td>10070</td>\n",
       "      <td>2013-04-03 00:00:30.0</td>\n",
       "      <td>Bhandari: All crises (energy, food, climate ch...</td>\n",
       "      <td>http://twitter.com/diegofguillen/statuses/3192...</td>\n",
       "      <td>twitter.com</td>\n",
       "      <td>en</td>\n",
       "      <td>diegofguillen</td>\n",
       "      <td>diegofguillen (diegofguillen)</td>\n",
       "      <td>Bhandari: All crises (energy, food, climate ch...</td>\n",
       "      <td>211</td>\n",
       "      <td>http://twitter.com/diegofguillen/statuses/3192...</td>\n",
       "      <td>NaN</td>\n",
       "      <td>NaN</td>\n",
       "      <td>post</td>\n",
       "      <td>211</td>\n",
       "      <td>238</td>\n",
       "      <td>0</td>\n",
       "      <td>0</td>\n",
       "      <td>False</td>\n",
       "    </tr>\n",
       "    <tr>\n",
       "      <th>7149</th>\n",
       "      <td>10071</td>\n",
       "      <td>2013-04-03 00:00:21.0</td>\n",
       "      <td>#GlobalWarming Accelerating, Study Says - http...</td>\n",
       "      <td>http://twitter.com/greenerideal/statuses/31923...</td>\n",
       "      <td>twitter.com</td>\n",
       "      <td>en</td>\n",
       "      <td>greenerideal</td>\n",
       "      <td>greenerideal (Greener Ideal)</td>\n",
       "      <td>#GlobalWarming Accelerating, Study Says - http...</td>\n",
       "      <td>4776</td>\n",
       "      <td>http://twitter.com/greenerideal/statuses/31923...</td>\n",
       "      <td>NaN</td>\n",
       "      <td>NaN</td>\n",
       "      <td>post</td>\n",
       "      <td>4776</td>\n",
       "      <td>2631</td>\n",
       "      <td>0</td>\n",
       "      <td>0</td>\n",
       "      <td>False</td>\n",
       "    </tr>\n",
       "    <tr>\n",
       "      <th>7150</th>\n",
       "      <td>10072</td>\n",
       "      <td>2013-04-03 00:00:04.0</td>\n",
       "      <td>Americans want more renewable energy and more ...</td>\n",
       "      <td>http://twitter.com/GreenCartoons/statuses/3192...</td>\n",
       "      <td>twitter.com</td>\n",
       "      <td>en</td>\n",
       "      <td>GreenCartoons</td>\n",
       "      <td>GreenCartoons (Joe Mohr)</td>\n",
       "      <td>Americans want more renewable energy and more ...</td>\n",
       "      <td>2479</td>\n",
       "      <td>http://twitter.com/GreenCartoons/statuses/3192...</td>\n",
       "      <td>NaN</td>\n",
       "      <td>NaN</td>\n",
       "      <td>post</td>\n",
       "      <td>2479</td>\n",
       "      <td>1083</td>\n",
       "      <td>0</td>\n",
       "      <td>0</td>\n",
       "      <td>False</td>\n",
       "    </tr>\n",
       "  </tbody>\n",
       "</table>\n",
       "<p>7151 rows × 19 columns</p>\n",
       "</div>"
      ],
      "text/plain": [
       "      Unnamed: 0                   Date  \\\n",
       "0              0  2013-04-04 23:59:06.0   \n",
       "1              2  2013-04-04 23:58:04.0   \n",
       "2              3  2013-04-04 23:57:33.0   \n",
       "3              4  2013-04-04 23:57:01.0   \n",
       "4              5  2013-04-04 23:56:52.0   \n",
       "...          ...                    ...   \n",
       "7146       10062  2013-04-03 00:01:46.0   \n",
       "7147       10063  2013-04-03 00:01:26.0   \n",
       "7148       10070  2013-04-03 00:00:30.0   \n",
       "7149       10071  2013-04-03 00:00:21.0   \n",
       "7150       10072  2013-04-03 00:00:04.0   \n",
       "\n",
       "                                                  Title  \\\n",
       "0     RT @MarionGroves Abbott says 10yrs ago he wore...   \n",
       "1     RT @NSWFarmers RT @AustFarmInstitu: Two climat...   \n",
       "2     Steve Stockman Hopes James Hansen's NASA Retir...   \n",
       "3     Ted Turner Tells Obama to Get 'Climate Change ...   \n",
       "4     The human race will never fully adapt to clima...   \n",
       "...                                                 ...   \n",
       "7146  RT @SebHenbest The @ClimateComm new report lin...   \n",
       "7147  Think it's all hype? Might wanna listen to thi...   \n",
       "7148  Bhandari: All crises (energy, food, climate ch...   \n",
       "7149  #GlobalWarming Accelerating, Study Says - http...   \n",
       "7150  Americans want more renewable energy and more ...   \n",
       "\n",
       "                                                    Url       Domain Language  \\\n",
       "0     http://twitter.com/Qldaah/statuses/31996236101...  twitter.com       en   \n",
       "1     http://twitter.com/TheFacelessSpin/statuses/31...  twitter.com       en   \n",
       "2     http://twitter.com/iamgreenbean/statuses/31996...  twitter.com       en   \n",
       "3     http://twitter.com/cpwilldo/statuses/319961839...  twitter.com       en   \n",
       "4     http://twitter.com/GreenSteve_com/statuses/319...  twitter.com       en   \n",
       "...                                                 ...          ...      ...   \n",
       "7146  http://twitter.com/kmac/statuses/3192382570051...  twitter.com       en   \n",
       "7147  http://twitter.com/LFreshwater/statuses/319238...  twitter.com       en   \n",
       "7148  http://twitter.com/diegofguillen/statuses/3192...  twitter.com       en   \n",
       "7149  http://twitter.com/greenerideal/statuses/31923...  twitter.com       en   \n",
       "7150  http://twitter.com/GreenCartoons/statuses/3192...  twitter.com       en   \n",
       "\n",
       "               Author                             Full Name  \\\n",
       "0              Qldaah                 Qldaah (David Marler)   \n",
       "1     TheFacelessSpin  TheFacelessSpin (FacelessFocusGroup)   \n",
       "2        iamgreenbean             iamgreenbean (Green Bean)   \n",
       "3            cpwilldo                cpwilldo (chris price)   \n",
       "4      GreenSteve_com          GreenSteve_com (Green Steve)   \n",
       "...               ...                                   ...   \n",
       "7146             kmac                 kmac (Kate Mackenzie)   \n",
       "7147      LFreshwater          LFreshwater (Lou Freshwater)   \n",
       "7148    diegofguillen         diegofguillen (diegofguillen)   \n",
       "7149     greenerideal          greenerideal (Greener Ideal)   \n",
       "7150    GreenCartoons              GreenCartoons (Joe Mohr)   \n",
       "\n",
       "                                              Full Text  Impressions  \\\n",
       "0     RT @MarionGroves Abbott says 10yrs ago he wore...         1413   \n",
       "1     RT @NSWFarmers RT @AustFarmInstitu: Two climat...         1063   \n",
       "2     Steve Stockman Hopes James Hansen's NASA Retir...         4365   \n",
       "3     Ted Turner Tells Obama to Get 'Climate Change ...         3477   \n",
       "4     The human race will never fully adapt to clima...         5298   \n",
       "...                                                 ...          ...   \n",
       "7146  RT @SebHenbest The @ClimateComm new report lin...         3826   \n",
       "7147  Think it's all hype? Might wanna listen to thi...         1048   \n",
       "7148  Bhandari: All crises (energy, food, climate ch...          211   \n",
       "7149  #GlobalWarming Accelerating, Study Says - http...         4776   \n",
       "7150  Americans want more renewable energy and more ...         2479   \n",
       "\n",
       "                                           Original Url  Thread Author  \\\n",
       "0     http://twitter.com/Qldaah/statuses/31996236101...            NaN   \n",
       "1     http://twitter.com/TheFacelessSpin/statuses/31...            NaN   \n",
       "2     http://twitter.com/iamgreenbean/statuses/31996...            NaN   \n",
       "3     http://twitter.com/cpwilldo/statuses/319961839...            NaN   \n",
       "4     http://twitter.com/GreenSteve_com/statuses/319...            NaN   \n",
       "...                                                 ...            ...   \n",
       "7146  http://twitter.com/kmac/statuses/3192382570051...            NaN   \n",
       "7147  http://twitter.com/LFreshwater/statuses/319238...            NaN   \n",
       "7148  http://twitter.com/diegofguillen/statuses/3192...            NaN   \n",
       "7149  http://twitter.com/greenerideal/statuses/31923...            NaN   \n",
       "7150  http://twitter.com/GreenCartoons/statuses/3192...            NaN   \n",
       "\n",
       "      Thread Created Date Thread Entry Type  Twitter Followers  \\\n",
       "0                     NaN              post               1413   \n",
       "1                     NaN              post               1063   \n",
       "2                     NaN              post               4365   \n",
       "3                     NaN              post               3477   \n",
       "4                     NaN              post               5298   \n",
       "...                   ...               ...                ...   \n",
       "7146                  NaN              post               3826   \n",
       "7147                  NaN              post               1048   \n",
       "7148                  NaN              post                211   \n",
       "7149                  NaN              post               4776   \n",
       "7150                  NaN              post               2479   \n",
       "\n",
       "      Twitter Following  Twitter Reply Count  Twitter Retweets  \\\n",
       "0                  1990                    0                 0   \n",
       "1                   471                    0                 0   \n",
       "2                  4369                    0                 0   \n",
       "3                  3806                    0                 0   \n",
       "4                  4840                    0                 0   \n",
       "...                 ...                  ...               ...   \n",
       "7146               1657                    0                 0   \n",
       "7147                719                    0                 0   \n",
       "7148                238                    0                 0   \n",
       "7149               2631                    0                 0   \n",
       "7150               1083                    0                 0   \n",
       "\n",
       "      Twitter Verified  \n",
       "0                False  \n",
       "1                False  \n",
       "2                False  \n",
       "3                False  \n",
       "4                False  \n",
       "...                ...  \n",
       "7146              True  \n",
       "7147             False  \n",
       "7148             False  \n",
       "7149             False  \n",
       "7150             False  \n",
       "\n",
       "[7151 rows x 19 columns]"
      ]
     },
     "execution_count": 7,
     "metadata": {},
     "output_type": "execute_result"
    }
   ],
   "source": [
    "en_cl = en_cl.loc[en_cl['Thread Entry Type'] != 'share']\n",
    "en_cl"
   ]
  },
  {
   "cell_type": "markdown",
   "id": "square-gibson",
   "metadata": {},
   "source": [
    "Making all the text lowercase to ensure consitiancy "
   ]
  },
  {
   "cell_type": "code",
   "execution_count": 28,
   "id": "differential-energy",
   "metadata": {},
   "outputs": [
    {
     "data": {
      "text/plain": [
       "<bound method NDFrame.head of 0       rt @mariongroves abbott says 10yrs ago he wore...\n",
       "1       rt @nswfarmers rt @austfarminstitu: two climat...\n",
       "2       steve stockman hopes james hansen's nasa retir...\n",
       "3       ted turner tells obama to get 'climate change ...\n",
       "4       the human race will never fully adapt to clima...\n",
       "                              ...                        \n",
       "7146    rt @sebhenbest the @climatecomm new report lin...\n",
       "7147    think it's all hype? might wanna listen to thi...\n",
       "7148    bhandari: all crises (energy, food, climate ch...\n",
       "7149    #globalwarming accelerating, study says - http...\n",
       "7150    americans want more renewable energy and more ...\n",
       "Name: text_lower, Length: 7151, dtype: object>"
      ]
     },
     "execution_count": 28,
     "metadata": {},
     "output_type": "execute_result"
    }
   ],
   "source": [
    "en_cl['text_lower'] = [x.lower() for x in en_cl['Full Text']]\n",
    "en_cl['text_lower'].head"
   ]
  },
  {
   "cell_type": "code",
   "execution_count": 11,
   "id": "sublime-world",
   "metadata": {},
   "outputs": [],
   "source": [
    "import nltk\n",
    "from nltk import tokenize as tk\n",
    "from nltk import FreqDist\n",
    "from nltk.corpus import stopwords\n",
    "import string"
   ]
  },
  {
   "cell_type": "markdown",
   "id": "composed-monte",
   "metadata": {},
   "source": [
    "Cleaning text further though moving stop words"
   ]
  },
  {
   "cell_type": "code",
   "execution_count": 12,
   "id": "lucky-benchmark",
   "metadata": {},
   "outputs": [
    {
     "name": "stderr",
     "output_type": "stream",
     "text": [
      "[nltk_data] Downloading package punkt to\n",
      "[nltk_data]     C:\\Users\\ihay0\\AppData\\Roaming\\nltk_data...\n",
      "[nltk_data]   Unzipping tokenizers\\punkt.zip.\n"
     ]
    },
    {
     "data": {
      "text/plain": [
       "True"
      ]
     },
     "execution_count": 12,
     "metadata": {},
     "output_type": "execute_result"
    }
   ],
   "source": [
    "nltk.download('punkt')"
   ]
  },
  {
   "cell_type": "code",
   "execution_count": 14,
   "id": "forty-wages",
   "metadata": {},
   "outputs": [
    {
     "data": {
      "text/plain": [
       "0    [rt, @, mariongroves, abbott, says, 10yrs, ago...\n",
       "1    [rt, @, nswfarmers, rt, @, austfarminstitu, :,...\n",
       "2    [steve, stockman, hopes, james, hansen, 's, na...\n",
       "3    [ted, turner, tells, obama, to, get, 'climate,...\n",
       "4    [the, human, race, will, never, fully, adapt, ...\n",
       "Name: tokens, dtype: object"
      ]
     },
     "execution_count": 14,
     "metadata": {},
     "output_type": "execute_result"
    }
   ],
   "source": [
    "en_cl['tokens'] = [tk.word_tokenize(x) for x in en_cl['text_lower']]\n",
    "en_cl['tokens'].head(5)"
   ]
  },
  {
   "cell_type": "code",
   "execution_count": 17,
   "id": "worldwide-ladder",
   "metadata": {},
   "outputs": [
    {
     "name": "stderr",
     "output_type": "stream",
     "text": [
      "[nltk_data] Downloading package stopwords to\n",
      "[nltk_data]     C:\\Users\\ihay0\\AppData\\Roaming\\nltk_data...\n",
      "[nltk_data]   Unzipping corpora\\stopwords.zip.\n"
     ]
    },
    {
     "data": {
      "text/plain": [
       "True"
      ]
     },
     "execution_count": 17,
     "metadata": {},
     "output_type": "execute_result"
    }
   ],
   "source": [
    "nltk.download('stopwords')"
   ]
  },
  {
   "cell_type": "code",
   "execution_count": 18,
   "id": "retired-warehouse",
   "metadata": {},
   "outputs": [
    {
     "data": {
      "text/plain": [
       "179"
      ]
     },
     "execution_count": 18,
     "metadata": {},
     "output_type": "execute_result"
    }
   ],
   "source": [
    "len(stopwords.words('english'))"
   ]
  },
  {
   "cell_type": "code",
   "execution_count": 19,
   "id": "occupied-clearance",
   "metadata": {},
   "outputs": [
    {
     "data": {
      "text/plain": [
       "181"
      ]
     },
     "execution_count": 19,
     "metadata": {},
     "output_type": "execute_result"
    }
   ],
   "source": [
    "mystopwords = stopwords.words('english')\n",
    "mystopwords.append(\"n't\")\n",
    "mystopwords.append(\"'s\")\n",
    "len(mystopwords)"
   ]
  },
  {
   "cell_type": "code",
   "execution_count": 20,
   "id": "binary-replacement",
   "metadata": {},
   "outputs": [],
   "source": [
    "filtered = []\n",
    "for i in en_cl['tokens']:\n",
    "    filtered.append([word for word in i if word not in mystopwords])\n",
    "    \n",
    "en_cl['filtered'] = filtered"
   ]
  },
  {
   "cell_type": "code",
   "execution_count": 22,
   "id": "mental-sight",
   "metadata": {},
   "outputs": [
    {
     "data": {
      "text/plain": [
       "['steve',\n",
       " 'stockman',\n",
       " 'hopes',\n",
       " 'james',\n",
       " 'hansen',\n",
       " 'nasa',\n",
       " 'retirement',\n",
       " 'encourage',\n",
       " 'climate',\n",
       " 'change',\n",
       " 'denial',\n",
       " 'http',\n",
       " ':',\n",
       " '//t.co/ewwx7pqwuz',\n",
       " 'via',\n",
       " '@',\n",
       " 'huffpostpol']"
      ]
     },
     "execution_count": 22,
     "metadata": {},
     "output_type": "execute_result"
    }
   ],
   "source": [
    "en_cl['filtered'][2]"
   ]
  },
  {
   "cell_type": "markdown",
   "id": "spanish-princeton",
   "metadata": {},
   "source": [
    "After rooming stop word. We remove punctuations from the texted."
   ]
  },
  {
   "cell_type": "code",
   "execution_count": 29,
   "id": "voluntary-harvest",
   "metadata": {},
   "outputs": [
    {
     "data": {
      "text/plain": [
       "'!\"#$%&\\'()*+,-./:;<=>?@[\\\\]^_`{|}~'"
      ]
     },
     "execution_count": 29,
     "metadata": {},
     "output_type": "execute_result"
    }
   ],
   "source": [
    "string.punctuation"
   ]
  },
  {
   "cell_type": "code",
   "execution_count": 30,
   "id": "structured-remains",
   "metadata": {},
   "outputs": [
    {
     "data": {
      "text/plain": [
       "['steve',\n",
       " 'stockman',\n",
       " 'hopes',\n",
       " 'james',\n",
       " 'hansen',\n",
       " 'nasa',\n",
       " 'retirement',\n",
       " 'encourage',\n",
       " 'climate',\n",
       " 'change',\n",
       " 'denial',\n",
       " 'http',\n",
       " '//t.co/ewwx7pqwuz',\n",
       " 'via',\n",
       " 'huffpostpol']"
      ]
     },
     "execution_count": 30,
     "metadata": {},
     "output_type": "execute_result"
    }
   ],
   "source": [
    "no_punct = []\n",
    "for i in en_cl['filtered']:\n",
    "    no_punct.append([word for word in i if word not in string.punctuation])\n",
    "    \n",
    "en_cl['no_punct'] = no_punct\n",
    "en_cl['no_punct'][2]"
   ]
  },
  {
   "cell_type": "markdown",
   "id": "broadband-violation",
   "metadata": {},
   "source": [
    "the code below starts to break down the cleaned text to figure out the frequncies of spefic words"
   ]
  },
  {
   "cell_type": "code",
   "execution_count": 33,
   "id": "sustained-tribe",
   "metadata": {},
   "outputs": [
    {
     "data": {
      "text/plain": [
       "0       {'rt': 1, 'mariongroves': 1, 'abbott': 1, 'say...\n",
       "1       {'rt': 2, 'nswfarmers': 1, 'austfarminstitu': ...\n",
       "2       {'steve': 1, 'stockman': 1, 'hopes': 1, 'james...\n",
       "3       {'ted': 1, 'turner': 1, 'tells': 1, 'obama': 1...\n",
       "4       {'human': 1, 'race': 1, 'never': 1, 'fully': 1...\n",
       "                              ...                        \n",
       "7146    {'rt': 1, 'sebhenbest': 1, 'climatecomm': 1, '...\n",
       "7147    {'think': 1, 'hype': 1, 'might': 1, 'wan': 1, ...\n",
       "7148    {'bhandari': 1, 'crises': 1, 'energy': 1, 'foo...\n",
       "7149    {'globalwarming': 1, 'accelerating': 1, 'study...\n",
       "7150    {'americans': 1, 'want': 1, 'renewable': 1, 'e...\n",
       "Name: freqs1, Length: 7151, dtype: object"
      ]
     },
     "execution_count": 33,
     "metadata": {},
     "output_type": "execute_result"
    }
   ],
   "source": [
    "freq1 = [FreqDist(x) for x in en_cl['no_punct']]\n",
    "en_cl['freqs1'] = freq1\n",
    "en_cl['freqs1']"
   ]
  },
  {
   "cell_type": "code",
   "execution_count": 34,
   "id": "boring-prairie",
   "metadata": {},
   "outputs": [],
   "source": [
    "from collections import Counter"
   ]
  },
  {
   "cell_type": "markdown",
   "id": "addressed-possibility",
   "metadata": {},
   "source": [
    "Importing another libary "
   ]
  },
  {
   "cell_type": "markdown",
   "id": "alpha-victorian",
   "metadata": {},
   "source": [
    "Counting up words from each indivual tweets "
   ]
  },
  {
   "cell_type": "code",
   "execution_count": 36,
   "id": "directed-cable",
   "metadata": {},
   "outputs": [
    {
     "data": {
      "text/plain": [
       "Counter({'rt': 3,\n",
       "         'mariongroves': 1,\n",
       "         'abbott': 1,\n",
       "         'says': 1,\n",
       "         '10yrs': 1,\n",
       "         'ago': 1,\n",
       "         'wore': 1,\n",
       "         'speedos': 1,\n",
       "         '289': 1,\n",
       "         'days': 1,\n",
       "         'year': 1,\n",
       "         'changed': 1,\n",
       "         'therefore': 1,\n",
       "         'climate': 2,\n",
       "         'change': 2,\n",
       "         'http': 2,\n",
       "         '//t.co/hvfjlwq8m4': 1,\n",
       "         'nswfarmers': 1,\n",
       "         'austfarminstitu': 1,\n",
       "         'two': 1,\n",
       "         'reports': 1,\n",
       "         'one': 1,\n",
       "         'week': 1,\n",
       "         'distinctly': 1,\n",
       "         'different': 1,\n",
       "         'conclusions': 1,\n",
       "         '//t.co/brzafgvexc': 1,\n",
       "         'auspol': 1})"
      ]
     },
     "execution_count": 36,
     "metadata": {},
     "output_type": "execute_result"
    }
   ],
   "source": [
    "A = Counter(en_cl['freqs1'][0])\n",
    "B = Counter(en_cl['freqs1'][1])\n",
    "A + B"
   ]
  },
  {
   "cell_type": "code",
   "execution_count": 39,
   "id": "vulnerable-rwanda",
   "metadata": {},
   "outputs": [
    {
     "data": {
      "text/plain": [
       "Counter({'rt': 1,\n",
       "         'mariongroves': 1,\n",
       "         'abbott': 1,\n",
       "         'says': 1,\n",
       "         '10yrs': 1,\n",
       "         'ago': 1,\n",
       "         'wore': 1,\n",
       "         'speedos': 1,\n",
       "         '289': 1,\n",
       "         'days': 1,\n",
       "         'year': 1,\n",
       "         'changed': 1,\n",
       "         'therefore': 1,\n",
       "         'climate': 1,\n",
       "         'change': 1,\n",
       "         'http': 1,\n",
       "         '//t.co/hvfjlwq8m4': 1})"
      ]
     },
     "execution_count": 39,
     "metadata": {},
     "output_type": "execute_result"
    }
   ],
   "source": [
    "en_cl['f1_counts'] = [Counter(x) for x in en_cl['freqs1']]\n",
    "en_cl['f1_counts'][0]"
   ]
  },
  {
   "cell_type": "code",
   "execution_count": 41,
   "id": "expired-constitutional",
   "metadata": {},
   "outputs": [],
   "source": [
    "wordcounts = Counter()\n",
    "for i in en_cl['f1_counts']:\n",
    "    wordcounts += i"
   ]
  },
  {
   "cell_type": "markdown",
   "id": "plastic-detector",
   "metadata": {},
   "source": [
    "This code counts up the words and converts them into a dataframe. I renamed the coulmn to be count as well."
   ]
  },
  {
   "cell_type": "code",
   "execution_count": 42,
   "id": "above-graph",
   "metadata": {},
   "outputs": [
    {
     "data": {
      "text/html": [
       "<div>\n",
       "<style scoped>\n",
       "    .dataframe tbody tr th:only-of-type {\n",
       "        vertical-align: middle;\n",
       "    }\n",
       "\n",
       "    .dataframe tbody tr th {\n",
       "        vertical-align: top;\n",
       "    }\n",
       "\n",
       "    .dataframe thead th {\n",
       "        text-align: right;\n",
       "    }\n",
       "</style>\n",
       "<table border=\"1\" class=\"dataframe\">\n",
       "  <thead>\n",
       "    <tr style=\"text-align: right;\">\n",
       "      <th></th>\n",
       "      <th>0</th>\n",
       "    </tr>\n",
       "  </thead>\n",
       "  <tbody>\n",
       "    <tr>\n",
       "      <th>rt</th>\n",
       "      <td>2791</td>\n",
       "    </tr>\n",
       "    <tr>\n",
       "      <th>mariongroves</th>\n",
       "      <td>3</td>\n",
       "    </tr>\n",
       "    <tr>\n",
       "      <th>abbott</th>\n",
       "      <td>150</td>\n",
       "    </tr>\n",
       "    <tr>\n",
       "      <th>says</th>\n",
       "      <td>172</td>\n",
       "    </tr>\n",
       "    <tr>\n",
       "      <th>10yrs</th>\n",
       "      <td>1</td>\n",
       "    </tr>\n",
       "    <tr>\n",
       "      <th>...</th>\n",
       "      <td>...</td>\n",
       "    </tr>\n",
       "    <tr>\n",
       "      <th>predatory</th>\n",
       "      <td>1</td>\n",
       "    </tr>\n",
       "    <tr>\n",
       "      <th>gr</th>\n",
       "      <td>1</td>\n",
       "    </tr>\n",
       "    <tr>\n",
       "      <th>//t.co/gl4hqosilt</th>\n",
       "      <td>1</td>\n",
       "    </tr>\n",
       "    <tr>\n",
       "      <th>//t.co/q2gzjmxn7i</th>\n",
       "      <td>1</td>\n",
       "    </tr>\n",
       "    <tr>\n",
       "      <th>//t.co/7fdvo7p8e0</th>\n",
       "      <td>1</td>\n",
       "    </tr>\n",
       "  </tbody>\n",
       "</table>\n",
       "<p>15028 rows × 1 columns</p>\n",
       "</div>"
      ],
      "text/plain": [
       "                      0\n",
       "rt                 2791\n",
       "mariongroves          3\n",
       "abbott              150\n",
       "says                172\n",
       "10yrs                 1\n",
       "...                 ...\n",
       "predatory             1\n",
       "gr                    1\n",
       "//t.co/gl4hqosilt     1\n",
       "//t.co/q2gzjmxn7i     1\n",
       "//t.co/7fdvo7p8e0     1\n",
       "\n",
       "[15028 rows x 1 columns]"
      ]
     },
     "execution_count": 42,
     "metadata": {},
     "output_type": "execute_result"
    }
   ],
   "source": [
    "counts = pd.DataFrame.from_dict(dict(wordcounts), orient='index')\n",
    "counts"
   ]
  },
  {
   "cell_type": "code",
   "execution_count": 43,
   "id": "pursuant-block",
   "metadata": {},
   "outputs": [
    {
     "data": {
      "text/html": [
       "<div>\n",
       "<style scoped>\n",
       "    .dataframe tbody tr th:only-of-type {\n",
       "        vertical-align: middle;\n",
       "    }\n",
       "\n",
       "    .dataframe tbody tr th {\n",
       "        vertical-align: top;\n",
       "    }\n",
       "\n",
       "    .dataframe thead th {\n",
       "        text-align: right;\n",
       "    }\n",
       "</style>\n",
       "<table border=\"1\" class=\"dataframe\">\n",
       "  <thead>\n",
       "    <tr style=\"text-align: right;\">\n",
       "      <th></th>\n",
       "      <th>counts</th>\n",
       "    </tr>\n",
       "  </thead>\n",
       "  <tbody>\n",
       "    <tr>\n",
       "      <th>rt</th>\n",
       "      <td>2791</td>\n",
       "    </tr>\n",
       "    <tr>\n",
       "      <th>mariongroves</th>\n",
       "      <td>3</td>\n",
       "    </tr>\n",
       "    <tr>\n",
       "      <th>abbott</th>\n",
       "      <td>150</td>\n",
       "    </tr>\n",
       "    <tr>\n",
       "      <th>says</th>\n",
       "      <td>172</td>\n",
       "    </tr>\n",
       "    <tr>\n",
       "      <th>10yrs</th>\n",
       "      <td>1</td>\n",
       "    </tr>\n",
       "    <tr>\n",
       "      <th>...</th>\n",
       "      <td>...</td>\n",
       "    </tr>\n",
       "    <tr>\n",
       "      <th>predatory</th>\n",
       "      <td>1</td>\n",
       "    </tr>\n",
       "    <tr>\n",
       "      <th>gr</th>\n",
       "      <td>1</td>\n",
       "    </tr>\n",
       "    <tr>\n",
       "      <th>//t.co/gl4hqosilt</th>\n",
       "      <td>1</td>\n",
       "    </tr>\n",
       "    <tr>\n",
       "      <th>//t.co/q2gzjmxn7i</th>\n",
       "      <td>1</td>\n",
       "    </tr>\n",
       "    <tr>\n",
       "      <th>//t.co/7fdvo7p8e0</th>\n",
       "      <td>1</td>\n",
       "    </tr>\n",
       "  </tbody>\n",
       "</table>\n",
       "<p>15028 rows × 1 columns</p>\n",
       "</div>"
      ],
      "text/plain": [
       "                   counts\n",
       "rt                   2791\n",
       "mariongroves            3\n",
       "abbott                150\n",
       "says                  172\n",
       "10yrs                   1\n",
       "...                   ...\n",
       "predatory               1\n",
       "gr                      1\n",
       "//t.co/gl4hqosilt       1\n",
       "//t.co/q2gzjmxn7i       1\n",
       "//t.co/7fdvo7p8e0       1\n",
       "\n",
       "[15028 rows x 1 columns]"
      ]
     },
     "execution_count": 43,
     "metadata": {},
     "output_type": "execute_result"
    }
   ],
   "source": [
    "counts = counts.rename(columns = {0: 'counts'})\n",
    "counts"
   ]
  },
  {
   "cell_type": "markdown",
   "id": "beautiful-morrison",
   "metadata": {},
   "source": [
    "This gets the top 20 most common words in the dataset"
   ]
  },
  {
   "cell_type": "code",
   "execution_count": 44,
   "id": "driving-michael",
   "metadata": {},
   "outputs": [
    {
     "data": {
      "text/html": [
       "<div>\n",
       "<style scoped>\n",
       "    .dataframe tbody tr th:only-of-type {\n",
       "        vertical-align: middle;\n",
       "    }\n",
       "\n",
       "    .dataframe tbody tr th {\n",
       "        vertical-align: top;\n",
       "    }\n",
       "\n",
       "    .dataframe thead th {\n",
       "        text-align: right;\n",
       "    }\n",
       "</style>\n",
       "<table border=\"1\" class=\"dataframe\">\n",
       "  <thead>\n",
       "    <tr style=\"text-align: right;\">\n",
       "      <th></th>\n",
       "      <th>counts</th>\n",
       "    </tr>\n",
       "  </thead>\n",
       "  <tbody>\n",
       "    <tr>\n",
       "      <th>climate</th>\n",
       "      <td>6339</td>\n",
       "    </tr>\n",
       "    <tr>\n",
       "      <th>change</th>\n",
       "      <td>6008</td>\n",
       "    </tr>\n",
       "    <tr>\n",
       "      <th>http</th>\n",
       "      <td>5463</td>\n",
       "    </tr>\n",
       "    <tr>\n",
       "      <th>rt</th>\n",
       "      <td>2791</td>\n",
       "    </tr>\n",
       "    <tr>\n",
       "      <th>climatechange</th>\n",
       "      <td>1353</td>\n",
       "    </tr>\n",
       "    <tr>\n",
       "      <th>...</th>\n",
       "      <td>988</td>\n",
       "    </tr>\n",
       "    <tr>\n",
       "      <th>``</th>\n",
       "      <td>725</td>\n",
       "    </tr>\n",
       "    <tr>\n",
       "      <th>''</th>\n",
       "      <td>722</td>\n",
       "    </tr>\n",
       "    <tr>\n",
       "      <th>via</th>\n",
       "      <td>564</td>\n",
       "    </tr>\n",
       "    <tr>\n",
       "      <th>global</th>\n",
       "      <td>407</td>\n",
       "    </tr>\n",
       "    <tr>\n",
       "      <th>weather</th>\n",
       "      <td>365</td>\n",
       "    </tr>\n",
       "    <tr>\n",
       "      <th>world</th>\n",
       "      <td>348</td>\n",
       "    </tr>\n",
       "    <tr>\n",
       "      <th>’</th>\n",
       "      <td>346</td>\n",
       "    </tr>\n",
       "    <tr>\n",
       "      <th>report</th>\n",
       "      <td>344</td>\n",
       "    </tr>\n",
       "    <tr>\n",
       "      <th>extreme</th>\n",
       "      <td>330</td>\n",
       "    </tr>\n",
       "    <tr>\n",
       "      <th>new</th>\n",
       "      <td>326</td>\n",
       "    </tr>\n",
       "    <tr>\n",
       "      <th>australia</th>\n",
       "      <td>297</td>\n",
       "    </tr>\n",
       "    <tr>\n",
       "      <th>warming</th>\n",
       "      <td>290</td>\n",
       "    </tr>\n",
       "    <tr>\n",
       "      <th>energy</th>\n",
       "      <td>266</td>\n",
       "    </tr>\n",
       "    <tr>\n",
       "      <th>news</th>\n",
       "      <td>248</td>\n",
       "    </tr>\n",
       "  </tbody>\n",
       "</table>\n",
       "</div>"
      ],
      "text/plain": [
       "               counts\n",
       "climate          6339\n",
       "change           6008\n",
       "http             5463\n",
       "rt               2791\n",
       "climatechange    1353\n",
       "...               988\n",
       "``                725\n",
       "''                722\n",
       "via               564\n",
       "global            407\n",
       "weather           365\n",
       "world             348\n",
       "’                 346\n",
       "report            344\n",
       "extreme           330\n",
       "new               326\n",
       "australia         297\n",
       "warming           290\n",
       "energy            266\n",
       "news              248"
      ]
     },
     "execution_count": 44,
     "metadata": {},
     "output_type": "execute_result"
    }
   ],
   "source": [
    "count_sort = counts.sort_values('counts', ascending = False)[:20]\n",
    "count_sort"
   ]
  },
  {
   "cell_type": "code",
   "execution_count": 45,
   "id": "built-stress",
   "metadata": {},
   "outputs": [
    {
     "data": {
      "image/png": "[encoded data removed]",
      "text/plain": [
       "<Figure size 432x288 with 1 Axes>"
      ]
     },
     "metadata": {
      "needs_background": "light"
     },
     "output_type": "display_data"
    }
   ],
   "source": [
    "fig, ax0 = plt.subplots()\n",
    "ax0.bar(count_sort.index, count_sort['counts'])\n",
    "plt.xticks(rotation=90, fontsize = 'small')\n",
    "plt.show()"
   ]
  },
  {
   "cell_type": "markdown",
   "id": "christian-grove",
   "metadata": {},
   "source": [
    "Now that we have the most common words we can look for the vader sentimetn scores to find more insite to the tone of these tweets"
   ]
  },
  {
   "cell_type": "code",
   "execution_count": 47,
   "id": "complicated-weapon",
   "metadata": {},
   "outputs": [],
   "source": [
    "analyser = SentimentIntensityAnalyzer()\n",
    "warnings.filterwarnings('ignore')"
   ]
  },
  {
   "cell_type": "code",
   "execution_count": 48,
   "id": "allied-madness",
   "metadata": {},
   "outputs": [
    {
     "data": {
      "text/plain": [
       "0     {'neg': 0.0, 'neu': 0.927, 'pos': 0.073, 'comp...\n",
       "1     {'neg': 0.0, 'neu': 1.0, 'pos': 0.0, 'compound...\n",
       "2     {'neg': 0.0, 'neu': 0.681, 'pos': 0.319, 'comp...\n",
       "3     {'neg': 0.0, 'neu': 1.0, 'pos': 0.0, 'compound...\n",
       "4     {'neg': 0.0, 'neu': 1.0, 'pos': 0.0, 'compound...\n",
       "5     {'neg': 0.0, 'neu': 0.839, 'pos': 0.161, 'comp...\n",
       "6     {'neg': 0.0, 'neu': 0.777, 'pos': 0.223, 'comp...\n",
       "7     {'neg': 0.0, 'neu': 1.0, 'pos': 0.0, 'compound...\n",
       "8     {'neg': 0.076, 'neu': 0.924, 'pos': 0.0, 'comp...\n",
       "9     {'neg': 0.338, 'neu': 0.662, 'pos': 0.0, 'comp...\n",
       "10    {'neg': 0.0, 'neu': 1.0, 'pos': 0.0, 'compound...\n",
       "11    {'neg': 0.0, 'neu': 1.0, 'pos': 0.0, 'compound...\n",
       "12    {'neg': 0.0, 'neu': 0.863, 'pos': 0.137, 'comp...\n",
       "13    {'neg': 0.363, 'neu': 0.513, 'pos': 0.124, 'co...\n",
       "14    {'neg': 0.221, 'neu': 0.779, 'pos': 0.0, 'comp...\n",
       "15    {'neg': 0.0, 'neu': 0.784, 'pos': 0.216, 'comp...\n",
       "16    {'neg': 0.167, 'neu': 0.833, 'pos': 0.0, 'comp...\n",
       "17    {'neg': 0.0, 'neu': 1.0, 'pos': 0.0, 'compound...\n",
       "18    {'neg': 0.181, 'neu': 0.819, 'pos': 0.0, 'comp...\n",
       "19    {'neg': 0.0, 'neu': 1.0, 'pos': 0.0, 'compound...\n",
       "Name: vader_scores, dtype: object"
      ]
     },
     "execution_count": 48,
     "metadata": {},
     "output_type": "execute_result"
    }
   ],
   "source": [
    "en_cl['vader_scores'] = [analyser.polarity_scores(x) for x in en_cl['Full Text']]\n",
    "en_cl['vader_scores'].head(20)"
   ]
  },
  {
   "cell_type": "markdown",
   "id": "still-composer",
   "metadata": {},
   "source": [
    "The code Below is calculationg the differnt scored per post for Postive Negative than Neural feeling in each tweet. Based of the Vader score given"
   ]
  },
  {
   "cell_type": "code",
   "execution_count": 50,
   "id": "numeric-longitude",
   "metadata": {},
   "outputs": [
    {
     "data": {
      "text/plain": [
       "0       0.073\n",
       "1       0.000\n",
       "2       0.319\n",
       "3       0.000\n",
       "4       0.000\n",
       "        ...  \n",
       "7146    0.000\n",
       "7147    0.000\n",
       "7148    0.110\n",
       "7149    0.000\n",
       "7150    0.269\n",
       "Name: pos, Length: 7151, dtype: float64"
      ]
     },
     "execution_count": 50,
     "metadata": {},
     "output_type": "execute_result"
    }
   ],
   "source": [
    "en_cl['pos'] = [x['pos'] for x in en_cl['vader_scores']]\n",
    "en_cl['pos']\n"
   ]
  },
  {
   "cell_type": "code",
   "execution_count": 58,
   "id": "narrow-bacon",
   "metadata": {},
   "outputs": [
    {
     "data": {
      "text/plain": [
       "0       0.000\n",
       "1       0.000\n",
       "2       0.000\n",
       "3       0.000\n",
       "4       0.000\n",
       "        ...  \n",
       "7146    0.000\n",
       "7147    0.163\n",
       "7148    0.000\n",
       "7149    0.000\n",
       "7150    0.000\n",
       "Name: neg, Length: 7151, dtype: float64"
      ]
     },
     "execution_count": 58,
     "metadata": {},
     "output_type": "execute_result"
    }
   ],
   "source": [
    "en_cl['neg'] = [x['neg'] for x in en_cl['vader_scores']]\n",
    "en_cl['neg']"
   ]
  },
  {
   "cell_type": "code",
   "execution_count": 60,
   "id": "handed-singles",
   "metadata": {},
   "outputs": [
    {
     "data": {
      "text/plain": [
       "0       0.927\n",
       "1       1.000\n",
       "2       0.681\n",
       "3       1.000\n",
       "4       1.000\n",
       "        ...  \n",
       "7146    1.000\n",
       "7147    0.837\n",
       "7148    0.890\n",
       "7149    1.000\n",
       "7150    0.731\n",
       "Name: neu, Length: 7151, dtype: float64"
      ]
     },
     "execution_count": 60,
     "metadata": {},
     "output_type": "execute_result"
    }
   ],
   "source": [
    "en_cl['neu'] = [x['neu'] for x in en_cl['vader_scores']]\n",
    "en_cl['neu']"
   ]
  },
  {
   "cell_type": "markdown",
   "id": "religious-saturn",
   "metadata": {},
   "source": [
    "The code below is adding a overall stats score for the sentiments though out the tweets \n",
    "Postive Negative than Neutral"
   ]
  },
  {
   "cell_type": "code",
   "execution_count": 54,
   "id": "impressive-princess",
   "metadata": {},
   "outputs": [
    {
     "data": {
      "text/plain": [
       "0.07545406236889945"
      ]
     },
     "execution_count": 54,
     "metadata": {},
     "output_type": "execute_result"
    }
   ],
   "source": [
    "stats.describe(en_cl['pos']).mean"
   ]
  },
  {
   "cell_type": "code",
   "execution_count": 59,
   "id": "lucky-facial",
   "metadata": {},
   "outputs": [
    {
     "data": {
      "text/plain": [
       "0.08293511397007411"
      ]
     },
     "execution_count": 59,
     "metadata": {},
     "output_type": "execute_result"
    }
   ],
   "source": [
    "stats.describe(en_cl['neg']).mean"
   ]
  },
  {
   "cell_type": "code",
   "execution_count": 61,
   "id": "fiscal-extra",
   "metadata": {},
   "outputs": [
    {
     "data": {
      "text/plain": [
       "0.8416085862117186"
      ]
     },
     "execution_count": 61,
     "metadata": {},
     "output_type": "execute_result"
    }
   ],
   "source": [
    "stats.describe(en_cl['neu']).mean"
   ]
  },
  {
   "cell_type": "markdown",
   "id": "stupid-slope",
   "metadata": {},
   "source": [
    "### Conclusion"
   ]
  },
  {
   "cell_type": "markdown",
   "id": "valid-savannah",
   "metadata": {},
   "source": [
    "In the end The frequncy score didn't end up giving us much information beyond the fact that people were talking about CLimate Change which was the query was looking for. The vader score ended up revealing a lot more about the data set. This is that much of the conversation on CLimate change that took place on this day in twitter was of a neutral sentiment and that not a lot of people had much negative or postive thoughts on Climate Change."
   ]
  }
 ],
 "metadata": {
  "kernelspec": {
   "display_name": "Python 3",
   "language": "python",
   "name": "python3"
  },
  "language_info": {
   "codemirror_mode": {
    "name": "ipython",
    "version": 3
   },
   "file_extension": ".py",
   "mimetype": "text/x-python",
   "name": "python",
   "nbconvert_exporter": "python",
   "pygments_lexer": "ipython3",
   "version": "3.9.1"
  }
 },
 "nbformat": 4,
 "nbformat_minor": 5
}
