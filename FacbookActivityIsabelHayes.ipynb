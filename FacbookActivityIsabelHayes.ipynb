{
 "cells": [
  {
   "cell_type": "markdown",
   "id": "productive-landscape",
   "metadata": {},
   "source": [
    "# Off Facebook Activity Report"
   ]
  },
  {
   "cell_type": "markdown",
   "id": "controversial-journey",
   "metadata": {},
   "source": [
    "For this analist I will be looking at my own Facebook data. I will be looking at the frequency of how often application request my infromation off facebook.I will be looking at what apps request my data the most frequently and try to figure out if the apps that request my data the most frequent are apps that I have turned on or if they request my data though another source. For this data I belive that over all app request will be far more frequent that other forms of data request."
   ]
  },
  {
   "cell_type": "code",
   "execution_count": 17,
   "id": "ranking-durham",
   "metadata": {},
   "outputs": [],
   "source": [
    "import json\n",
    "from datetime import datetime\n",
    "import matplotlib.pyplot as plt\n",
    "import numpy as np\n",
    "import time\n",
    "import pandas as pd\n",
    "from scipy import stats"
   ]
  },
  {
   "cell_type": "markdown",
   "id": "furnished-freight",
   "metadata": {},
   "source": [
    "These are some libaries so I can work with the data set\n",
    "The data I am using came driectly from my Facebook and I am reading it into the document below"
   ]
  },
  {
   "cell_type": "code",
   "execution_count": 5,
   "id": "quick-transsexual",
   "metadata": {},
   "outputs": [],
   "source": [
    "with open(r'C:\\Users\\ihay0\\OneDrive\\Desktop\\facebook-isabelmhayes (1)\\ads_and_businesses\\your_off-facebook_activity.json') as x:\n",
    "    act = json.load(x)"
   ]
  },
  {
   "cell_type": "code",
   "execution_count": 6,
   "id": "special-graphics",
   "metadata": {},
   "outputs": [
    {
     "name": "stdout",
     "output_type": "stream",
     "text": [
      "dict_keys(['off_facebook_activity'])\n"
     ]
    }
   ],
   "source": [
    "print(act.keys())"
   ]
  },
  {
   "cell_type": "code",
   "execution_count": 7,
   "id": "early-technical",
   "metadata": {},
   "outputs": [
    {
     "data": {
      "text/plain": [
       "dict_keys(['name', 'events'])"
      ]
     },
     "execution_count": 7,
     "metadata": {},
     "output_type": "execute_result"
    }
   ],
   "source": [
    "act['off_facebook_activity'][0].keys()"
   ]
  },
  {
   "cell_type": "markdown",
   "id": "different-belgium",
   "metadata": {},
   "source": [
    "Above show that the code is a directories and for the keys of the directory"
   ]
  },
  {
   "cell_type": "code",
   "execution_count": 8,
   "id": "secure-california",
   "metadata": {},
   "outputs": [
    {
     "data": {
      "text/plain": [
       "{'name': 'Spotify: Listen to new music and play podcasts',\n",
       " 'events': [{'id': 174829003346, 'type': 'CUSTOM', 'timestamp': 1611535140},\n",
       "  {'id': 174829003346, 'type': 'CUSTOM', 'timestamp': 1611445500},\n",
       "  {'id': 174829003346, 'type': 'CUSTOM', 'timestamp': 1611357000},\n",
       "  {'id': 174829003346, 'type': 'CUSTOM', 'timestamp': 1611207060},\n",
       "  {'id': 174829003346, 'type': 'CUSTOM', 'timestamp': 1611083160},\n",
       "  {'id': 174829003346, 'type': 'CUSTOM', 'timestamp': 1611076260},\n",
       "  {'id': 174829003346, 'type': 'CUSTOM', 'timestamp': 1611063780},\n",
       "  {'id': 174829003346, 'type': 'CUSTOM', 'timestamp': 1610998200},\n",
       "  {'id': 174829003346, 'type': 'CUSTOM', 'timestamp': 1610749740},\n",
       "  {'id': 174829003346, 'type': 'CUSTOM', 'timestamp': 1610731920},\n",
       "  {'id': 174829003346, 'type': 'CUSTOM', 'timestamp': 1610676000},\n",
       "  {'id': 174829003346, 'type': 'CUSTOM', 'timestamp': 1610663160},\n",
       "  {'id': 174829003346, 'type': 'CUSTOM', 'timestamp': 1610658240},\n",
       "  {'id': 174829003346, 'type': 'CUSTOM', 'timestamp': 1610634300},\n",
       "  {'id': 174829003346, 'type': 'CUSTOM', 'timestamp': 1610563440},\n",
       "  {'id': 174829003346, 'type': 'CUSTOM', 'timestamp': 1610560860},\n",
       "  {'id': 174829003346, 'type': 'CUSTOM', 'timestamp': 1610547600},\n",
       "  {'id': 174829003346, 'type': 'CUSTOM', 'timestamp': 1610546820},\n",
       "  {'id': 174829003346, 'type': 'CUSTOM', 'timestamp': 1610483460},\n",
       "  {'id': 174829003346, 'type': 'CUSTOM', 'timestamp': 1610478720},\n",
       "  {'id': 174829003346, 'type': 'CUSTOM', 'timestamp': 1610423400},\n",
       "  {'id': 174829003346, 'type': 'CUSTOM', 'timestamp': 1610420760},\n",
       "  {'id': 174829003346, 'type': 'CUSTOM', 'timestamp': 1610404020},\n",
       "  {'id': 174829003346, 'type': 'CUSTOM', 'timestamp': 1610105820},\n",
       "  {'id': 174829003346, 'type': 'CUSTOM', 'timestamp': 1609872060},\n",
       "  {'id': 174829003346, 'type': 'CUSTOM', 'timestamp': 1609691280},\n",
       "  {'id': 174829003346, 'type': 'CUSTOM', 'timestamp': 1609553760},\n",
       "  {'id': 174829003346, 'type': 'CUSTOM', 'timestamp': 1609431240},\n",
       "  {'id': 174829003346, 'type': 'CUSTOM', 'timestamp': 1609397520},\n",
       "  {'id': 174829003346, 'type': 'CUSTOM', 'timestamp': 1609261500},\n",
       "  {'id': 174829003346, 'type': 'CUSTOM', 'timestamp': 1609177980},\n",
       "  {'id': 174829003346, 'type': 'CUSTOM', 'timestamp': 1609172340},\n",
       "  {'id': 174829003346, 'type': 'CUSTOM', 'timestamp': 1608845040},\n",
       "  {'id': 174829003346, 'type': 'CUSTOM', 'timestamp': 1608746040},\n",
       "  {'id': 174829003346, 'type': 'CUSTOM', 'timestamp': 1608734700},\n",
       "  {'id': 174829003346, 'type': 'CUSTOM', 'timestamp': 1608661980},\n",
       "  {'id': 174829003346, 'type': 'CUSTOM', 'timestamp': 1608568440},\n",
       "  {'id': 174829003346, 'type': 'CUSTOM', 'timestamp': 1608400080},\n",
       "  {'id': 174829003346, 'type': 'CUSTOM', 'timestamp': 1608221400},\n",
       "  {'id': 174829003346, 'type': 'CUSTOM', 'timestamp': 1608220680},\n",
       "  {'id': 174829003346, 'type': 'CUSTOM', 'timestamp': 1608130620},\n",
       "  {'id': 174829003346, 'type': 'CUSTOM', 'timestamp': 1608072300},\n",
       "  {'id': 174829003346, 'type': 'CUSTOM', 'timestamp': 1608071220},\n",
       "  {'id': 174829003346, 'type': 'CUSTOM', 'timestamp': 1608063900},\n",
       "  {'id': 174829003346, 'type': 'CUSTOM', 'timestamp': 1608051660},\n",
       "  {'id': 174829003346, 'type': 'CUSTOM', 'timestamp': 1608047940},\n",
       "  {'id': 174829003346, 'type': 'CUSTOM', 'timestamp': 1608046560},\n",
       "  {'id': 174829003346, 'type': 'CUSTOM', 'timestamp': 1608045300},\n",
       "  {'id': 174829003346, 'type': 'CUSTOM', 'timestamp': 1608044760},\n",
       "  {'id': 174829003346, 'type': 'CUSTOM', 'timestamp': 1608037380},\n",
       "  {'id': 174829003346, 'type': 'CUSTOM', 'timestamp': 1607991900},\n",
       "  {'id': 174829003346, 'type': 'CUSTOM', 'timestamp': 1607983380},\n",
       "  {'id': 174829003346, 'type': 'CUSTOM', 'timestamp': 1607911380},\n",
       "  {'id': 174829003346, 'type': 'CUSTOM', 'timestamp': 1607902260},\n",
       "  {'id': 174829003346, 'type': 'CUSTOM', 'timestamp': 1607660400},\n",
       "  {'id': 174829003346, 'type': 'CUSTOM', 'timestamp': 1607616960},\n",
       "  {'id': 174829003346, 'type': 'CUSTOM', 'timestamp': 1607615100},\n",
       "  {'id': 174829003346, 'type': 'CUSTOM', 'timestamp': 1605622860},\n",
       "  {'id': 174829003346, 'type': 'CUSTOM', 'timestamp': 1605618900},\n",
       "  {'id': 174829003346, 'type': 'CUSTOM', 'timestamp': 1605558300},\n",
       "  {'id': 174829003346, 'type': 'CUSTOM', 'timestamp': 1605556980},\n",
       "  {'id': 174829003346, 'type': 'CUSTOM', 'timestamp': 1605475080},\n",
       "  {'id': 174829003346, 'type': 'CUSTOM', 'timestamp': 1605309000},\n",
       "  {'id': 174829003346, 'type': 'CUSTOM', 'timestamp': 1605196800},\n",
       "  {'id': 174829003346, 'type': 'CUSTOM', 'timestamp': 1605196560},\n",
       "  {'id': 174829003346, 'type': 'CUSTOM', 'timestamp': 1605038220},\n",
       "  {'id': 174829003346, 'type': 'CUSTOM', 'timestamp': 1604979960},\n",
       "  {'id': 174829003346, 'type': 'CUSTOM', 'timestamp': 1604785680},\n",
       "  {'id': 174829003346, 'type': 'CUSTOM', 'timestamp': 1604785380},\n",
       "  {'id': 174829003346, 'type': 'CUSTOM', 'timestamp': 1604748960},\n",
       "  {'id': 174829003346, 'type': 'CUSTOM', 'timestamp': 1604715600},\n",
       "  {'id': 174829003346, 'type': 'CUSTOM', 'timestamp': 1604714820},\n",
       "  {'id': 174829003346, 'type': 'CUSTOM', 'timestamp': 1604705220},\n",
       "  {'id': 174829003346, 'type': 'CUSTOM', 'timestamp': 1604619240},\n",
       "  {'id': 174829003346, 'type': 'CUSTOM', 'timestamp': 1604594220},\n",
       "  {'id': 174829003346, 'type': 'CUSTOM', 'timestamp': 1604540580},\n",
       "  {'id': 174829003346, 'type': 'CUSTOM', 'timestamp': 1604525460},\n",
       "  {'id': 174829003346, 'type': 'CUSTOM', 'timestamp': 1604523420},\n",
       "  {'id': 174829003346, 'type': 'CUSTOM', 'timestamp': 1604462580},\n",
       "  {'id': 174829003346, 'type': 'CUSTOM', 'timestamp': 1604343240},\n",
       "  {'id': 174829003346, 'type': 'CUSTOM', 'timestamp': 1604341680},\n",
       "  {'id': 174829003346, 'type': 'CUSTOM', 'timestamp': 1604309640},\n",
       "  {'id': 174829003346, 'type': 'CUSTOM', 'timestamp': 1604249160},\n",
       "  {'id': 174829003346, 'type': 'ACTIVATE_APP', 'timestamp': 1604193960},\n",
       "  {'id': 174829003346, 'type': 'CUSTOM', 'timestamp': 1604162220},\n",
       "  {'id': 174829003346, 'type': 'CUSTOM', 'timestamp': 1604097060},\n",
       "  {'id': 174829003346, 'type': 'CUSTOM', 'timestamp': 1604073120},\n",
       "  {'id': 174829003346, 'type': 'CUSTOM', 'timestamp': 1604071440},\n",
       "  {'id': 174829003346, 'type': 'CUSTOM', 'timestamp': 1603979340},\n",
       "  {'id': 174829003346, 'type': 'CUSTOM', 'timestamp': 1603913400},\n",
       "  {'id': 174829003346, 'type': 'CUSTOM', 'timestamp': 1603912200},\n",
       "  {'id': 174829003346, 'type': 'CUSTOM', 'timestamp': 1603890720},\n",
       "  {'id': 174829003346, 'type': 'CUSTOM', 'timestamp': 1603741380},\n",
       "  {'id': 174829003346, 'type': 'CUSTOM', 'timestamp': 1603739340},\n",
       "  {'id': 174829003346, 'type': 'CUSTOM', 'timestamp': 1603592760},\n",
       "  {'id': 174829003346, 'type': 'CUSTOM', 'timestamp': 1603589940},\n",
       "  {'id': 174829003346, 'type': 'ACTIVATE_APP', 'timestamp': 1603556160},\n",
       "  {'id': 174829003346, 'type': 'CUSTOM', 'timestamp': 1603490700},\n",
       "  {'id': 174829003346, 'type': 'CUSTOM', 'timestamp': 1603489680},\n",
       "  {'id': 174829003346, 'type': 'CUSTOM', 'timestamp': 1603405680},\n",
       "  {'id': 174829003346, 'type': 'CUSTOM', 'timestamp': 1603398420},\n",
       "  {'id': 174829003346, 'type': 'CUSTOM', 'timestamp': 1603395720},\n",
       "  {'id': 174829003346, 'type': 'CUSTOM', 'timestamp': 1603298580},\n",
       "  {'id': 174829003346, 'type': 'ACTIVATE_APP', 'timestamp': 1603239180},\n",
       "  {'id': 174829003346, 'type': 'CUSTOM', 'timestamp': 1603224540},\n",
       "  {'id': 174829003346, 'type': 'CUSTOM', 'timestamp': 1603223460},\n",
       "  {'id': 174829003346, 'type': 'CUSTOM', 'timestamp': 1603130760},\n",
       "  {'id': 174829003346, 'type': 'CUSTOM', 'timestamp': 1603110120}]}"
      ]
     },
     "execution_count": 8,
     "metadata": {},
     "output_type": "execute_result"
    }
   ],
   "source": [
    "act['off_facebook_activity'][0]"
   ]
  },
  {
   "cell_type": "code",
   "execution_count": 9,
   "id": "prescribed-claim",
   "metadata": {},
   "outputs": [],
   "source": [
    "apps =[]\n",
    "events = []\n",
    "ac = []\n",
    "other = []\n",
    "\n",
    " \n",
    "for i in act['off_facebook_activity']:\n",
    "    apps.append(i['name'])\n",
    "    events.append((len(i['events'])))\n",
    "    ac.append(len([x for x in i['events'] if x['type'] == 'ACTIVATE_APP']))\n",
    "    other.append(len([x for x in i['events'] if x['type'] != 'ACTIVATE_APP']))\n",
    "    "
   ]
  },
  {
   "cell_type": "code",
   "execution_count": 10,
   "id": "matched-grass",
   "metadata": {},
   "outputs": [],
   "source": [
    "appbyevent = pd.DataFrame(columns= ('App','Events', 'Activate App', 'Other' ))\n",
    "appbyevent['App'] = apps\n",
    "appbyevent['Events'] = events\n",
    "appbyevent['Activate App'] = ac\n",
    "appbyevent['Other'] = other\n"
   ]
  },
  {
   "cell_type": "markdown",
   "id": "combined-likelihood",
   "metadata": {},
   "source": [
    "Above shows the code for making a dataframe to differenct the app events that are casued by the use of an app and the events caused by another from of data request\n"
   ]
  },
  {
   "cell_type": "markdown",
   "id": "foster-zealand",
   "metadata": {},
   "source": [
    "Below show the DataFrame itself"
   ]
  },
  {
   "cell_type": "code",
   "execution_count": 11,
   "id": "published-excuse",
   "metadata": {},
   "outputs": [
    {
     "data": {
      "text/html": [
       "<div>\n",
       "<style scoped>\n",
       "    .dataframe tbody tr th:only-of-type {\n",
       "        vertical-align: middle;\n",
       "    }\n",
       "\n",
       "    .dataframe tbody tr th {\n",
       "        vertical-align: top;\n",
       "    }\n",
       "\n",
       "    .dataframe thead th {\n",
       "        text-align: right;\n",
       "    }\n",
       "</style>\n",
       "<table border=\"1\" class=\"dataframe\">\n",
       "  <thead>\n",
       "    <tr style=\"text-align: right;\">\n",
       "      <th></th>\n",
       "      <th>App</th>\n",
       "      <th>Events</th>\n",
       "      <th>Activate App</th>\n",
       "      <th>Other</th>\n",
       "    </tr>\n",
       "  </thead>\n",
       "  <tbody>\n",
       "    <tr>\n",
       "      <th>0</th>\n",
       "      <td>Spotify: Listen to new music and play podcasts</td>\n",
       "      <td>108</td>\n",
       "      <td>3</td>\n",
       "      <td>105</td>\n",
       "    </tr>\n",
       "    <tr>\n",
       "      <th>1</th>\n",
       "      <td>GroupMe</td>\n",
       "      <td>546</td>\n",
       "      <td>105</td>\n",
       "      <td>441</td>\n",
       "    </tr>\n",
       "    <tr>\n",
       "      <th>2</th>\n",
       "      <td>Venmo</td>\n",
       "      <td>42</td>\n",
       "      <td>13</td>\n",
       "      <td>29</td>\n",
       "    </tr>\n",
       "    <tr>\n",
       "      <th>3</th>\n",
       "      <td>adoreme.com</td>\n",
       "      <td>3</td>\n",
       "      <td>0</td>\n",
       "      <td>3</td>\n",
       "    </tr>\n",
       "    <tr>\n",
       "      <th>4</th>\n",
       "      <td>Etsy: Buy Custom, Handmade, and Unique Goods</td>\n",
       "      <td>60</td>\n",
       "      <td>6</td>\n",
       "      <td>54</td>\n",
       "    </tr>\n",
       "    <tr>\n",
       "      <th>...</th>\n",
       "      <td>...</td>\n",
       "      <td>...</td>\n",
       "      <td>...</td>\n",
       "      <td>...</td>\n",
       "    </tr>\n",
       "    <tr>\n",
       "      <th>235</th>\n",
       "      <td>Samsung Members</td>\n",
       "      <td>1</td>\n",
       "      <td>0</td>\n",
       "      <td>1</td>\n",
       "    </tr>\n",
       "    <tr>\n",
       "      <th>236</th>\n",
       "      <td>Circuit Route Planner</td>\n",
       "      <td>1</td>\n",
       "      <td>1</td>\n",
       "      <td>0</td>\n",
       "    </tr>\n",
       "    <tr>\n",
       "      <th>237</th>\n",
       "      <td>dailymotion - the home for videos that matter</td>\n",
       "      <td>7</td>\n",
       "      <td>6</td>\n",
       "      <td>1</td>\n",
       "    </tr>\n",
       "    <tr>\n",
       "      <th>238</th>\n",
       "      <td>wwe.com</td>\n",
       "      <td>4</td>\n",
       "      <td>0</td>\n",
       "      <td>4</td>\n",
       "    </tr>\n",
       "    <tr>\n",
       "      <th>239</th>\n",
       "      <td>WWE</td>\n",
       "      <td>1</td>\n",
       "      <td>0</td>\n",
       "      <td>1</td>\n",
       "    </tr>\n",
       "  </tbody>\n",
       "</table>\n",
       "<p>240 rows × 4 columns</p>\n",
       "</div>"
      ],
      "text/plain": [
       "                                                App  Events  Activate App  \\\n",
       "0    Spotify: Listen to new music and play podcasts     108             3   \n",
       "1                                           GroupMe     546           105   \n",
       "2                                             Venmo      42            13   \n",
       "3                                       adoreme.com       3             0   \n",
       "4      Etsy: Buy Custom, Handmade, and Unique Goods      60             6   \n",
       "..                                              ...     ...           ...   \n",
       "235                                 Samsung Members       1             0   \n",
       "236                           Circuit Route Planner       1             1   \n",
       "237   dailymotion - the home for videos that matter       7             6   \n",
       "238                                         wwe.com       4             0   \n",
       "239                                             WWE       1             0   \n",
       "\n",
       "     Other  \n",
       "0      105  \n",
       "1      441  \n",
       "2       29  \n",
       "3        3  \n",
       "4       54  \n",
       "..     ...  \n",
       "235      1  \n",
       "236      0  \n",
       "237      1  \n",
       "238      4  \n",
       "239      1  \n",
       "\n",
       "[240 rows x 4 columns]"
      ]
     },
     "execution_count": 11,
     "metadata": {},
     "output_type": "execute_result"
    }
   ],
   "source": [
    "appbyevent"
   ]
  },
  {
   "cell_type": "markdown",
   "id": "fewer-adapter",
   "metadata": {},
   "source": [
    "A good way to see distrubtions of frequencies is Chisquare test between the two categories. This will allow us to come statitscal value on what is more likly to happen between the two opions of the data request form an app or from another source"
   ]
  },
  {
   "cell_type": "code",
   "execution_count": 15,
   "id": "editorial-iraqi",
   "metadata": {},
   "outputs": [
    {
     "data": {
      "text/plain": [
       "array([[105,   0,   1, 196, 168, 131, 115, 106,  98,  67,  36,   3,   0,\n",
       "         18,  31,   6,   9,   0,   0,  49,  13,  31,   0,   7,   5,   0,\n",
       "          0,  17,   4,   0],\n",
       "       [441, 347, 254,   2,   1,  27,  28,  35,  22,  51,  74, 105,  86,\n",
       "         49,  30,  54,  45,  51,  50,   0,  29,   1,  26,  18,  20,  24,\n",
       "         23,   6,  16,  19]], dtype=int64)"
      ]
     },
     "execution_count": 15,
     "metadata": {},
     "output_type": "execute_result"
    }
   ],
   "source": [
    "obs=np.array([appbyevent['Activate App'][:30],appbyevent['Other'][:30]])\n",
    "obs"
   ]
  },
  {
   "cell_type": "markdown",
   "id": "virgin-friend",
   "metadata": {},
   "source": [
    "The code above turns the dataframe into a 2 array with the number of events for both Activate app and other. For this we have only slected the first 30 items out of the dataframe."
   ]
  },
  {
   "cell_type": "code",
   "execution_count": 18,
   "id": "metallic-particle",
   "metadata": {},
   "outputs": [
    {
     "data": {
      "text/plain": [
       "(1875.8738590904395,\n",
       " 0.0,\n",
       " 29,\n",
       " array([[210.77333333, 133.95301587,  98.43809524,  76.43428571,\n",
       "          65.23936508,  60.99301587,  55.20253968,  54.43047619,\n",
       "          46.32380952,  45.55174603,  42.46349206,  41.69142857,\n",
       "          33.19873016,  25.86412698,  23.54793651,  23.16190476,\n",
       "          20.84571429,  19.68761905,  19.3015873 ,  18.91555556,\n",
       "          16.21333333,  12.35301587,  10.0368254 ,   9.65079365,\n",
       "           9.65079365,   9.2647619 ,   8.87873016,   8.87873016,\n",
       "           7.72063492,   7.33460317],\n",
       "        [335.22666667, 213.04698413, 156.56190476, 121.56571429,\n",
       "         103.76063492,  97.00698413,  87.79746032,  86.56952381,\n",
       "          73.67619048,  72.44825397,  67.53650794,  66.30857143,\n",
       "          52.80126984,  41.13587302,  37.45206349,  36.83809524,\n",
       "          33.15428571,  31.31238095,  30.6984127 ,  30.08444444,\n",
       "          25.78666667,  19.64698413,  15.9631746 ,  15.34920635,\n",
       "          15.34920635,  14.7352381 ,  14.12126984,  14.12126984,\n",
       "          12.27936508,  11.66539683]]))"
      ]
     },
     "execution_count": 18,
     "metadata": {},
     "output_type": "execute_result"
    }
   ],
   "source": [
    "stats.chi2_contingency(obs)"
   ]
  },
  {
   "cell_type": "markdown",
   "id": "another-street",
   "metadata": {},
   "source": [
    "The data above show that it is very unlike that the disbution of events will ever be the same frequencies between Active App and Other. It also show that one of them will always be higher than the other one."
   ]
  },
  {
   "cell_type": "markdown",
   "id": "voluntary-louisville",
   "metadata": {},
   "source": [
    "The bar chart below show the total number of events than how often a app request is doen for each application and how often another data request is done by an applicaiton"
   ]
  },
  {
   "cell_type": "code",
   "execution_count": 13,
   "id": "immediate-great",
   "metadata": {
    "scrolled": true
   },
   "outputs": [
    {
     "data": {
      "text/plain": [
       "<matplotlib.legend.Legend at 0x1dabc7589d0>"
      ]
     },
     "execution_count": 13,
     "metadata": {},
     "output_type": "execute_result"
    },
    {
     "data": {
      "image/png": "[encoded data removed]",
      "text/plain": [
       "<Figure size 432x288 with 1 Axes>"
      ]
     },
     "metadata": {
      "needs_background": "light"
     },
     "output_type": "display_data"
    }
   ],
   "source": [
    "appbyevent = appbyevent.sort_values(by = ['Events'], ascending = False)\n",
    "X = np.arange(30)\n",
    "fig = plt.figure()\n",
    "ax = fig.add_axes([0,0,1,1])\n",
    "ax.bar(X + 0.00, appbyevent['Events'][0:30], color = 'b', alpha = .1, width = .90)\n",
    "ax.bar(X + 0.00, appbyevent['Activate App'][0:30], color='b', width = .50)\n",
    "ax.bar(X + 0.15, appbyevent['Other'][0:30], color='g', width = .50)\n",
    "plt.xticks(ticks=X+.2, labels = list(appbyevent['App'][0:30]), rotation=90)\n",
    "ax.legend(labels=['Total Events' ,'Activate App', 'Other'])\n"
   ]
  },
  {
   "cell_type": "markdown",
   "id": "middle-orange",
   "metadata": {},
   "source": [
    "#### What I discovered"
   ]
  },
  {
   "cell_type": "markdown",
   "id": "wound-double",
   "metadata": {},
   "source": [
    "Between looking at this Bar chart and Looking at the frequencies you can see that it accultaly much more common for my facebook data to be accessed though ohter way rather than though some of the apps on my phone. I had thought it would be though apps on my phone becasue I download a lot of ames on my phone that often connect to facebook to dave data. "
   ]
  },
  {
   "cell_type": "markdown",
   "id": "anticipated-diabetes",
   "metadata": {},
   "source": [
    "It is rather intersting to be proven wrong about where Facebook is gathering a lot of there data from and It is intresting that its often though other sources anf not apps that use on my phone"
   ]
  }
 ],
 "metadata": {
  "kernelspec": {
   "display_name": "Python 3",
   "language": "python",
   "name": "python3"
  },
  "language_info": {
   "codemirror_mode": {
    "name": "ipython",
    "version": 3
   },
   "file_extension": ".py",
   "mimetype": "text/x-python",
   "name": "python",
   "nbconvert_exporter": "python",
   "pygments_lexer": "ipython3",
   "version": "3.9.1"
  }
 },
 "nbformat": 4,
 "nbformat_minor": 5
}
